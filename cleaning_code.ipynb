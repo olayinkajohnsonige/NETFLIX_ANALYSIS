{
 "cells": [
  {
   "cell_type": "markdown",
   "metadata": {},
   "source": [
    "## Netflix Exploratory Data Analysis"
   ]
  },
  {
   "cell_type": "code",
   "execution_count": 48,
   "metadata": {
    "execution": {
     "iopub.execute_input": "2025-08-14T16:00:45.488330Z",
     "iopub.status.busy": "2025-08-14T16:00:45.487866Z",
     "iopub.status.idle": "2025-08-14T16:00:45.497139Z",
     "shell.execute_reply": "2025-08-14T16:00:45.493820Z",
     "shell.execute_reply.started": "2025-08-14T16:00:45.488297Z"
    },
    "trusted": true
   },
   "outputs": [],
   "source": [
    "#importing the necessary libraries\n",
    "import pandas as pd\n",
    "import numpy as np\n",
    "import matplotlib.pyplot as plt"
   ]
  },
  {
   "cell_type": "markdown",
   "metadata": {},
   "source": [
    "### This dataset contains TV Shows and Movies available on Netflix"
   ]
  },
  {
   "cell_type": "code",
   "execution_count": 49,
   "metadata": {
    "execution": {
     "iopub.execute_input": "2025-08-14T16:00:50.651901Z",
     "iopub.status.busy": "2025-08-14T16:00:50.650070Z",
     "iopub.status.idle": "2025-08-14T16:00:50.793714Z",
     "shell.execute_reply": "2025-08-14T16:00:50.791094Z",
     "shell.execute_reply.started": "2025-08-14T16:00:50.651839Z"
    },
    "trusted": true
   },
   "outputs": [
    {
     "data": {
      "text/html": [
       "<div>\n",
       "<style scoped>\n",
       "    .dataframe tbody tr th:only-of-type {\n",
       "        vertical-align: middle;\n",
       "    }\n",
       "\n",
       "    .dataframe tbody tr th {\n",
       "        vertical-align: top;\n",
       "    }\n",
       "\n",
       "    .dataframe thead th {\n",
       "        text-align: right;\n",
       "    }\n",
       "</style>\n",
       "<table border=\"1\" class=\"dataframe\">\n",
       "  <thead>\n",
       "    <tr style=\"text-align: right;\">\n",
       "      <th></th>\n",
       "      <th>Show_Id</th>\n",
       "      <th>Category</th>\n",
       "      <th>Title</th>\n",
       "      <th>Director</th>\n",
       "      <th>Cast</th>\n",
       "      <th>Country</th>\n",
       "      <th>Release_Date</th>\n",
       "      <th>Rating</th>\n",
       "      <th>Duration</th>\n",
       "      <th>Type</th>\n",
       "      <th>Description</th>\n",
       "    </tr>\n",
       "  </thead>\n",
       "  <tbody>\n",
       "    <tr>\n",
       "      <th>0</th>\n",
       "      <td>s1</td>\n",
       "      <td>TV Show</td>\n",
       "      <td>3%</td>\n",
       "      <td>NaN</td>\n",
       "      <td>João Miguel, Bianca Comparato, Michel Gomes, R...</td>\n",
       "      <td>Brazil</td>\n",
       "      <td>August 14, 2020</td>\n",
       "      <td>TV-MA</td>\n",
       "      <td>4 Seasons</td>\n",
       "      <td>International TV Shows, TV Dramas, TV Sci-Fi &amp;...</td>\n",
       "      <td>In a future where the elite inhabit an island ...</td>\n",
       "    </tr>\n",
       "    <tr>\n",
       "      <th>1</th>\n",
       "      <td>s2</td>\n",
       "      <td>Movie</td>\n",
       "      <td>07:19</td>\n",
       "      <td>Jorge Michel Grau</td>\n",
       "      <td>Demián Bichir, Héctor Bonilla, Oscar Serrano, ...</td>\n",
       "      <td>Mexico</td>\n",
       "      <td>December 23, 2016</td>\n",
       "      <td>TV-MA</td>\n",
       "      <td>93 min</td>\n",
       "      <td>Dramas, International Movies</td>\n",
       "      <td>After a devastating earthquake hits Mexico Cit...</td>\n",
       "    </tr>\n",
       "    <tr>\n",
       "      <th>2</th>\n",
       "      <td>s3</td>\n",
       "      <td>Movie</td>\n",
       "      <td>23:59</td>\n",
       "      <td>Gilbert Chan</td>\n",
       "      <td>Tedd Chan, Stella Chung, Henley Hii, Lawrence ...</td>\n",
       "      <td>Singapore</td>\n",
       "      <td>December 20, 2018</td>\n",
       "      <td>R</td>\n",
       "      <td>78 min</td>\n",
       "      <td>Horror Movies, International Movies</td>\n",
       "      <td>When an army recruit is found dead, his fellow...</td>\n",
       "    </tr>\n",
       "    <tr>\n",
       "      <th>3</th>\n",
       "      <td>s4</td>\n",
       "      <td>Movie</td>\n",
       "      <td>9</td>\n",
       "      <td>Shane Acker</td>\n",
       "      <td>Elijah Wood, John C. Reilly, Jennifer Connelly...</td>\n",
       "      <td>United States</td>\n",
       "      <td>November 16, 2017</td>\n",
       "      <td>PG-13</td>\n",
       "      <td>80 min</td>\n",
       "      <td>Action &amp; Adventure, Independent Movies, Sci-Fi...</td>\n",
       "      <td>In a postapocalyptic world, rag-doll robots hi...</td>\n",
       "    </tr>\n",
       "    <tr>\n",
       "      <th>4</th>\n",
       "      <td>s5</td>\n",
       "      <td>Movie</td>\n",
       "      <td>21</td>\n",
       "      <td>Robert Luketic</td>\n",
       "      <td>Jim Sturgess, Kevin Spacey, Kate Bosworth, Aar...</td>\n",
       "      <td>United States</td>\n",
       "      <td>January 1, 2020</td>\n",
       "      <td>PG-13</td>\n",
       "      <td>123 min</td>\n",
       "      <td>Dramas</td>\n",
       "      <td>A brilliant group of students become card-coun...</td>\n",
       "    </tr>\n",
       "    <tr>\n",
       "      <th>...</th>\n",
       "      <td>...</td>\n",
       "      <td>...</td>\n",
       "      <td>...</td>\n",
       "      <td>...</td>\n",
       "      <td>...</td>\n",
       "      <td>...</td>\n",
       "      <td>...</td>\n",
       "      <td>...</td>\n",
       "      <td>...</td>\n",
       "      <td>...</td>\n",
       "      <td>...</td>\n",
       "    </tr>\n",
       "    <tr>\n",
       "      <th>7784</th>\n",
       "      <td>s7783</td>\n",
       "      <td>Movie</td>\n",
       "      <td>Zozo</td>\n",
       "      <td>Josef Fares</td>\n",
       "      <td>Imad Creidi, Antoinette Turk, Elias Gergi, Car...</td>\n",
       "      <td>Sweden, Czech Republic, United Kingdom, Denmar...</td>\n",
       "      <td>October 19, 2020</td>\n",
       "      <td>TV-MA</td>\n",
       "      <td>99 min</td>\n",
       "      <td>Dramas, International Movies</td>\n",
       "      <td>When Lebanon's Civil War deprives Zozo of his ...</td>\n",
       "    </tr>\n",
       "    <tr>\n",
       "      <th>7785</th>\n",
       "      <td>s7784</td>\n",
       "      <td>Movie</td>\n",
       "      <td>Zubaan</td>\n",
       "      <td>Mozez Singh</td>\n",
       "      <td>Vicky Kaushal, Sarah-Jane Dias, Raaghav Chanan...</td>\n",
       "      <td>India</td>\n",
       "      <td>March 2, 2019</td>\n",
       "      <td>TV-14</td>\n",
       "      <td>111 min</td>\n",
       "      <td>Dramas, International Movies, Music &amp; Musicals</td>\n",
       "      <td>A scrappy but poor boy worms his way into a ty...</td>\n",
       "    </tr>\n",
       "    <tr>\n",
       "      <th>7786</th>\n",
       "      <td>s7785</td>\n",
       "      <td>Movie</td>\n",
       "      <td>Zulu Man in Japan</td>\n",
       "      <td>NaN</td>\n",
       "      <td>Nasty C</td>\n",
       "      <td>NaN</td>\n",
       "      <td>September 25, 2020</td>\n",
       "      <td>TV-MA</td>\n",
       "      <td>44 min</td>\n",
       "      <td>Documentaries, International Movies, Music &amp; M...</td>\n",
       "      <td>In this documentary, South African rapper Nast...</td>\n",
       "    </tr>\n",
       "    <tr>\n",
       "      <th>7787</th>\n",
       "      <td>s7786</td>\n",
       "      <td>TV Show</td>\n",
       "      <td>Zumbo's Just Desserts</td>\n",
       "      <td>NaN</td>\n",
       "      <td>Adriano Zumbo, Rachel Khoo</td>\n",
       "      <td>Australia</td>\n",
       "      <td>October 31, 2020</td>\n",
       "      <td>TV-PG</td>\n",
       "      <td>1 Season</td>\n",
       "      <td>International TV Shows, Reality TV</td>\n",
       "      <td>Dessert wizard Adriano Zumbo looks for the nex...</td>\n",
       "    </tr>\n",
       "    <tr>\n",
       "      <th>7788</th>\n",
       "      <td>s7787</td>\n",
       "      <td>Movie</td>\n",
       "      <td>ZZ TOP: THAT LITTLE OL' BAND FROM TEXAS</td>\n",
       "      <td>Sam Dunn</td>\n",
       "      <td>NaN</td>\n",
       "      <td>United Kingdom, Canada, United States</td>\n",
       "      <td>March 1, 2020</td>\n",
       "      <td>TV-MA</td>\n",
       "      <td>90 min</td>\n",
       "      <td>Documentaries, Music &amp; Musicals</td>\n",
       "      <td>This documentary delves into the mystique behi...</td>\n",
       "    </tr>\n",
       "  </tbody>\n",
       "</table>\n",
       "<p>7789 rows × 11 columns</p>\n",
       "</div>"
      ],
      "text/plain": [
       "     Show_Id Category                                    Title  \\\n",
       "0         s1  TV Show                                       3%   \n",
       "1         s2    Movie                                    07:19   \n",
       "2         s3    Movie                                    23:59   \n",
       "3         s4    Movie                                        9   \n",
       "4         s5    Movie                                       21   \n",
       "...      ...      ...                                      ...   \n",
       "7784   s7783    Movie                                     Zozo   \n",
       "7785   s7784    Movie                                   Zubaan   \n",
       "7786   s7785    Movie                        Zulu Man in Japan   \n",
       "7787   s7786  TV Show                    Zumbo's Just Desserts   \n",
       "7788   s7787    Movie  ZZ TOP: THAT LITTLE OL' BAND FROM TEXAS   \n",
       "\n",
       "               Director                                               Cast  \\\n",
       "0                   NaN  João Miguel, Bianca Comparato, Michel Gomes, R...   \n",
       "1     Jorge Michel Grau  Demián Bichir, Héctor Bonilla, Oscar Serrano, ...   \n",
       "2          Gilbert Chan  Tedd Chan, Stella Chung, Henley Hii, Lawrence ...   \n",
       "3           Shane Acker  Elijah Wood, John C. Reilly, Jennifer Connelly...   \n",
       "4        Robert Luketic  Jim Sturgess, Kevin Spacey, Kate Bosworth, Aar...   \n",
       "...                 ...                                                ...   \n",
       "7784        Josef Fares  Imad Creidi, Antoinette Turk, Elias Gergi, Car...   \n",
       "7785        Mozez Singh  Vicky Kaushal, Sarah-Jane Dias, Raaghav Chanan...   \n",
       "7786                NaN                                            Nasty C   \n",
       "7787                NaN                         Adriano Zumbo, Rachel Khoo   \n",
       "7788           Sam Dunn                                                NaN   \n",
       "\n",
       "                                                Country        Release_Date  \\\n",
       "0                                                Brazil     August 14, 2020   \n",
       "1                                                Mexico   December 23, 2016   \n",
       "2                                             Singapore   December 20, 2018   \n",
       "3                                         United States   November 16, 2017   \n",
       "4                                         United States     January 1, 2020   \n",
       "...                                                 ...                 ...   \n",
       "7784  Sweden, Czech Republic, United Kingdom, Denmar...    October 19, 2020   \n",
       "7785                                              India       March 2, 2019   \n",
       "7786                                                NaN  September 25, 2020   \n",
       "7787                                          Australia    October 31, 2020   \n",
       "7788              United Kingdom, Canada, United States       March 1, 2020   \n",
       "\n",
       "     Rating   Duration                                               Type  \\\n",
       "0     TV-MA  4 Seasons  International TV Shows, TV Dramas, TV Sci-Fi &...   \n",
       "1     TV-MA     93 min                       Dramas, International Movies   \n",
       "2         R     78 min                Horror Movies, International Movies   \n",
       "3     PG-13     80 min  Action & Adventure, Independent Movies, Sci-Fi...   \n",
       "4     PG-13    123 min                                             Dramas   \n",
       "...     ...        ...                                                ...   \n",
       "7784  TV-MA     99 min                       Dramas, International Movies   \n",
       "7785  TV-14    111 min     Dramas, International Movies, Music & Musicals   \n",
       "7786  TV-MA     44 min  Documentaries, International Movies, Music & M...   \n",
       "7787  TV-PG   1 Season                 International TV Shows, Reality TV   \n",
       "7788  TV-MA     90 min                    Documentaries, Music & Musicals   \n",
       "\n",
       "                                            Description  \n",
       "0     In a future where the elite inhabit an island ...  \n",
       "1     After a devastating earthquake hits Mexico Cit...  \n",
       "2     When an army recruit is found dead, his fellow...  \n",
       "3     In a postapocalyptic world, rag-doll robots hi...  \n",
       "4     A brilliant group of students become card-coun...  \n",
       "...                                                 ...  \n",
       "7784  When Lebanon's Civil War deprives Zozo of his ...  \n",
       "7785  A scrappy but poor boy worms his way into a ty...  \n",
       "7786  In this documentary, South African rapper Nast...  \n",
       "7787  Dessert wizard Adriano Zumbo looks for the nex...  \n",
       "7788  This documentary delves into the mystique behi...  \n",
       "\n",
       "[7789 rows x 11 columns]"
      ]
     },
     "execution_count": 49,
     "metadata": {},
     "output_type": "execute_result"
    }
   ],
   "source": [
    "#Reading the data and storing it in a variable  \n",
    "df= pd.read_csv('Netflix Dataset.csv')\n",
    "df\n"
   ]
  },
  {
   "cell_type": "code",
   "execution_count": 50,
   "metadata": {},
   "outputs": [
    {
     "data": {
      "text/plain": [
       "Show_Id         object\n",
       "Category        object\n",
       "Title           object\n",
       "Director        object\n",
       "Cast            object\n",
       "Country         object\n",
       "Release_Date    object\n",
       "Rating          object\n",
       "Duration        object\n",
       "Type            object\n",
       "Description     object\n",
       "dtype: object"
      ]
     },
     "execution_count": 50,
     "metadata": {},
     "output_type": "execute_result"
    }
   ],
   "source": [
    "#checking for datatypes\n",
    "df.dtypes"
   ]
  },
  {
   "cell_type": "code",
   "execution_count": 51,
   "metadata": {},
   "outputs": [
    {
     "name": "stdout",
     "output_type": "stream",
     "text": [
      "The Netflix Datset has 7789 rows and 11 columns\n"
     ]
    }
   ],
   "source": [
    "##View the shape of the dataset\n",
    "rows=df.shape[0]\n",
    "columns=df.shape[1]\n",
    "print(f'The Netflix Datset has {rows} rows and {columns} columns')"
   ]
  },
  {
   "cell_type": "markdown",
   "metadata": {},
   "source": [
    "### Observing the Data"
   ]
  },
  {
   "cell_type": "code",
   "execution_count": 52,
   "metadata": {
    "execution": {
     "iopub.execute_input": "2025-08-14T16:00:57.508829Z",
     "iopub.status.busy": "2025-08-14T16:00:57.508179Z",
     "iopub.status.idle": "2025-08-14T16:00:57.601949Z",
     "shell.execute_reply": "2025-08-14T16:00:57.600173Z",
     "shell.execute_reply.started": "2025-08-14T16:00:57.508792Z"
    },
    "trusted": true
   },
   "outputs": [
    {
     "data": {
      "text/html": [
       "<div>\n",
       "<style scoped>\n",
       "    .dataframe tbody tr th:only-of-type {\n",
       "        vertical-align: middle;\n",
       "    }\n",
       "\n",
       "    .dataframe tbody tr th {\n",
       "        vertical-align: top;\n",
       "    }\n",
       "\n",
       "    .dataframe thead th {\n",
       "        text-align: right;\n",
       "    }\n",
       "</style>\n",
       "<table border=\"1\" class=\"dataframe\">\n",
       "  <thead>\n",
       "    <tr style=\"text-align: right;\">\n",
       "      <th></th>\n",
       "      <th>Show_Id</th>\n",
       "      <th>Category</th>\n",
       "      <th>Title</th>\n",
       "      <th>Director</th>\n",
       "      <th>Cast</th>\n",
       "      <th>Country</th>\n",
       "      <th>Release_Date</th>\n",
       "      <th>Rating</th>\n",
       "      <th>Duration</th>\n",
       "      <th>Type</th>\n",
       "      <th>Description</th>\n",
       "    </tr>\n",
       "  </thead>\n",
       "  <tbody>\n",
       "    <tr>\n",
       "      <th>0</th>\n",
       "      <td>s1</td>\n",
       "      <td>TV Show</td>\n",
       "      <td>3%</td>\n",
       "      <td>NaN</td>\n",
       "      <td>João Miguel, Bianca Comparato, Michel Gomes, R...</td>\n",
       "      <td>Brazil</td>\n",
       "      <td>August 14, 2020</td>\n",
       "      <td>TV-MA</td>\n",
       "      <td>4 Seasons</td>\n",
       "      <td>International TV Shows, TV Dramas, TV Sci-Fi &amp;...</td>\n",
       "      <td>In a future where the elite inhabit an island ...</td>\n",
       "    </tr>\n",
       "    <tr>\n",
       "      <th>1</th>\n",
       "      <td>s2</td>\n",
       "      <td>Movie</td>\n",
       "      <td>07:19</td>\n",
       "      <td>Jorge Michel Grau</td>\n",
       "      <td>Demián Bichir, Héctor Bonilla, Oscar Serrano, ...</td>\n",
       "      <td>Mexico</td>\n",
       "      <td>December 23, 2016</td>\n",
       "      <td>TV-MA</td>\n",
       "      <td>93 min</td>\n",
       "      <td>Dramas, International Movies</td>\n",
       "      <td>After a devastating earthquake hits Mexico Cit...</td>\n",
       "    </tr>\n",
       "    <tr>\n",
       "      <th>2</th>\n",
       "      <td>s3</td>\n",
       "      <td>Movie</td>\n",
       "      <td>23:59</td>\n",
       "      <td>Gilbert Chan</td>\n",
       "      <td>Tedd Chan, Stella Chung, Henley Hii, Lawrence ...</td>\n",
       "      <td>Singapore</td>\n",
       "      <td>December 20, 2018</td>\n",
       "      <td>R</td>\n",
       "      <td>78 min</td>\n",
       "      <td>Horror Movies, International Movies</td>\n",
       "      <td>When an army recruit is found dead, his fellow...</td>\n",
       "    </tr>\n",
       "    <tr>\n",
       "      <th>3</th>\n",
       "      <td>s4</td>\n",
       "      <td>Movie</td>\n",
       "      <td>9</td>\n",
       "      <td>Shane Acker</td>\n",
       "      <td>Elijah Wood, John C. Reilly, Jennifer Connelly...</td>\n",
       "      <td>United States</td>\n",
       "      <td>November 16, 2017</td>\n",
       "      <td>PG-13</td>\n",
       "      <td>80 min</td>\n",
       "      <td>Action &amp; Adventure, Independent Movies, Sci-Fi...</td>\n",
       "      <td>In a postapocalyptic world, rag-doll robots hi...</td>\n",
       "    </tr>\n",
       "    <tr>\n",
       "      <th>4</th>\n",
       "      <td>s5</td>\n",
       "      <td>Movie</td>\n",
       "      <td>21</td>\n",
       "      <td>Robert Luketic</td>\n",
       "      <td>Jim Sturgess, Kevin Spacey, Kate Bosworth, Aar...</td>\n",
       "      <td>United States</td>\n",
       "      <td>January 1, 2020</td>\n",
       "      <td>PG-13</td>\n",
       "      <td>123 min</td>\n",
       "      <td>Dramas</td>\n",
       "      <td>A brilliant group of students become card-coun...</td>\n",
       "    </tr>\n",
       "  </tbody>\n",
       "</table>\n",
       "</div>"
      ],
      "text/plain": [
       "  Show_Id Category  Title           Director  \\\n",
       "0      s1  TV Show     3%                NaN   \n",
       "1      s2    Movie  07:19  Jorge Michel Grau   \n",
       "2      s3    Movie  23:59       Gilbert Chan   \n",
       "3      s4    Movie      9        Shane Acker   \n",
       "4      s5    Movie     21     Robert Luketic   \n",
       "\n",
       "                                                Cast        Country  \\\n",
       "0  João Miguel, Bianca Comparato, Michel Gomes, R...         Brazil   \n",
       "1  Demián Bichir, Héctor Bonilla, Oscar Serrano, ...         Mexico   \n",
       "2  Tedd Chan, Stella Chung, Henley Hii, Lawrence ...      Singapore   \n",
       "3  Elijah Wood, John C. Reilly, Jennifer Connelly...  United States   \n",
       "4  Jim Sturgess, Kevin Spacey, Kate Bosworth, Aar...  United States   \n",
       "\n",
       "        Release_Date Rating   Duration  \\\n",
       "0    August 14, 2020  TV-MA  4 Seasons   \n",
       "1  December 23, 2016  TV-MA     93 min   \n",
       "2  December 20, 2018      R     78 min   \n",
       "3  November 16, 2017  PG-13     80 min   \n",
       "4    January 1, 2020  PG-13    123 min   \n",
       "\n",
       "                                                Type  \\\n",
       "0  International TV Shows, TV Dramas, TV Sci-Fi &...   \n",
       "1                       Dramas, International Movies   \n",
       "2                Horror Movies, International Movies   \n",
       "3  Action & Adventure, Independent Movies, Sci-Fi...   \n",
       "4                                             Dramas   \n",
       "\n",
       "                                         Description  \n",
       "0  In a future where the elite inhabit an island ...  \n",
       "1  After a devastating earthquake hits Mexico Cit...  \n",
       "2  When an army recruit is found dead, his fellow...  \n",
       "3  In a postapocalyptic world, rag-doll robots hi...  \n",
       "4  A brilliant group of students become card-coun...  "
      ]
     },
     "execution_count": 52,
     "metadata": {},
     "output_type": "execute_result"
    }
   ],
   "source": [
    "#previewing the first 5 rows of the dataset\n",
    "df.head()"
   ]
  },
  {
   "cell_type": "code",
   "execution_count": 53,
   "metadata": {},
   "outputs": [
    {
     "data": {
      "text/html": [
       "<div>\n",
       "<style scoped>\n",
       "    .dataframe tbody tr th:only-of-type {\n",
       "        vertical-align: middle;\n",
       "    }\n",
       "\n",
       "    .dataframe tbody tr th {\n",
       "        vertical-align: top;\n",
       "    }\n",
       "\n",
       "    .dataframe thead th {\n",
       "        text-align: right;\n",
       "    }\n",
       "</style>\n",
       "<table border=\"1\" class=\"dataframe\">\n",
       "  <thead>\n",
       "    <tr style=\"text-align: right;\">\n",
       "      <th></th>\n",
       "      <th>Show_Id</th>\n",
       "      <th>Category</th>\n",
       "      <th>Title</th>\n",
       "      <th>Director</th>\n",
       "      <th>Cast</th>\n",
       "      <th>Country</th>\n",
       "      <th>Release_Date</th>\n",
       "      <th>Rating</th>\n",
       "      <th>Duration</th>\n",
       "      <th>Type</th>\n",
       "      <th>Description</th>\n",
       "    </tr>\n",
       "  </thead>\n",
       "  <tbody>\n",
       "    <tr>\n",
       "      <th>7784</th>\n",
       "      <td>s7783</td>\n",
       "      <td>Movie</td>\n",
       "      <td>Zozo</td>\n",
       "      <td>Josef Fares</td>\n",
       "      <td>Imad Creidi, Antoinette Turk, Elias Gergi, Car...</td>\n",
       "      <td>Sweden, Czech Republic, United Kingdom, Denmar...</td>\n",
       "      <td>October 19, 2020</td>\n",
       "      <td>TV-MA</td>\n",
       "      <td>99 min</td>\n",
       "      <td>Dramas, International Movies</td>\n",
       "      <td>When Lebanon's Civil War deprives Zozo of his ...</td>\n",
       "    </tr>\n",
       "    <tr>\n",
       "      <th>7785</th>\n",
       "      <td>s7784</td>\n",
       "      <td>Movie</td>\n",
       "      <td>Zubaan</td>\n",
       "      <td>Mozez Singh</td>\n",
       "      <td>Vicky Kaushal, Sarah-Jane Dias, Raaghav Chanan...</td>\n",
       "      <td>India</td>\n",
       "      <td>March 2, 2019</td>\n",
       "      <td>TV-14</td>\n",
       "      <td>111 min</td>\n",
       "      <td>Dramas, International Movies, Music &amp; Musicals</td>\n",
       "      <td>A scrappy but poor boy worms his way into a ty...</td>\n",
       "    </tr>\n",
       "    <tr>\n",
       "      <th>7786</th>\n",
       "      <td>s7785</td>\n",
       "      <td>Movie</td>\n",
       "      <td>Zulu Man in Japan</td>\n",
       "      <td>NaN</td>\n",
       "      <td>Nasty C</td>\n",
       "      <td>NaN</td>\n",
       "      <td>September 25, 2020</td>\n",
       "      <td>TV-MA</td>\n",
       "      <td>44 min</td>\n",
       "      <td>Documentaries, International Movies, Music &amp; M...</td>\n",
       "      <td>In this documentary, South African rapper Nast...</td>\n",
       "    </tr>\n",
       "    <tr>\n",
       "      <th>7787</th>\n",
       "      <td>s7786</td>\n",
       "      <td>TV Show</td>\n",
       "      <td>Zumbo's Just Desserts</td>\n",
       "      <td>NaN</td>\n",
       "      <td>Adriano Zumbo, Rachel Khoo</td>\n",
       "      <td>Australia</td>\n",
       "      <td>October 31, 2020</td>\n",
       "      <td>TV-PG</td>\n",
       "      <td>1 Season</td>\n",
       "      <td>International TV Shows, Reality TV</td>\n",
       "      <td>Dessert wizard Adriano Zumbo looks for the nex...</td>\n",
       "    </tr>\n",
       "    <tr>\n",
       "      <th>7788</th>\n",
       "      <td>s7787</td>\n",
       "      <td>Movie</td>\n",
       "      <td>ZZ TOP: THAT LITTLE OL' BAND FROM TEXAS</td>\n",
       "      <td>Sam Dunn</td>\n",
       "      <td>NaN</td>\n",
       "      <td>United Kingdom, Canada, United States</td>\n",
       "      <td>March 1, 2020</td>\n",
       "      <td>TV-MA</td>\n",
       "      <td>90 min</td>\n",
       "      <td>Documentaries, Music &amp; Musicals</td>\n",
       "      <td>This documentary delves into the mystique behi...</td>\n",
       "    </tr>\n",
       "  </tbody>\n",
       "</table>\n",
       "</div>"
      ],
      "text/plain": [
       "     Show_Id Category                                    Title     Director  \\\n",
       "7784   s7783    Movie                                     Zozo  Josef Fares   \n",
       "7785   s7784    Movie                                   Zubaan  Mozez Singh   \n",
       "7786   s7785    Movie                        Zulu Man in Japan          NaN   \n",
       "7787   s7786  TV Show                    Zumbo's Just Desserts          NaN   \n",
       "7788   s7787    Movie  ZZ TOP: THAT LITTLE OL' BAND FROM TEXAS     Sam Dunn   \n",
       "\n",
       "                                                   Cast  \\\n",
       "7784  Imad Creidi, Antoinette Turk, Elias Gergi, Car...   \n",
       "7785  Vicky Kaushal, Sarah-Jane Dias, Raaghav Chanan...   \n",
       "7786                                            Nasty C   \n",
       "7787                         Adriano Zumbo, Rachel Khoo   \n",
       "7788                                                NaN   \n",
       "\n",
       "                                                Country        Release_Date  \\\n",
       "7784  Sweden, Czech Republic, United Kingdom, Denmar...    October 19, 2020   \n",
       "7785                                              India       March 2, 2019   \n",
       "7786                                                NaN  September 25, 2020   \n",
       "7787                                          Australia    October 31, 2020   \n",
       "7788              United Kingdom, Canada, United States       March 1, 2020   \n",
       "\n",
       "     Rating  Duration                                               Type  \\\n",
       "7784  TV-MA    99 min                       Dramas, International Movies   \n",
       "7785  TV-14   111 min     Dramas, International Movies, Music & Musicals   \n",
       "7786  TV-MA    44 min  Documentaries, International Movies, Music & M...   \n",
       "7787  TV-PG  1 Season                 International TV Shows, Reality TV   \n",
       "7788  TV-MA    90 min                    Documentaries, Music & Musicals   \n",
       "\n",
       "                                            Description  \n",
       "7784  When Lebanon's Civil War deprives Zozo of his ...  \n",
       "7785  A scrappy but poor boy worms his way into a ty...  \n",
       "7786  In this documentary, South African rapper Nast...  \n",
       "7787  Dessert wizard Adriano Zumbo looks for the nex...  \n",
       "7788  This documentary delves into the mystique behi...  "
      ]
     },
     "execution_count": 53,
     "metadata": {},
     "output_type": "execute_result"
    }
   ],
   "source": [
    "##previewing the last 5 rows of the dataset\n",
    "df.tail()"
   ]
  },
  {
   "cell_type": "code",
   "execution_count": 54,
   "metadata": {},
   "outputs": [
    {
     "data": {
      "text/plain": [
       "Index(['Show_Id', 'Category', 'Title', 'Director', 'Cast', 'Country',\n",
       "       'Release_Date', 'Rating', 'Duration', 'Type', 'Description'],\n",
       "      dtype='object')"
      ]
     },
     "execution_count": 54,
     "metadata": {},
     "output_type": "execute_result"
    }
   ],
   "source": [
    "#listing the columns in the dataset\n",
    "df.columns"
   ]
  },
  {
   "cell_type": "code",
   "execution_count": 55,
   "metadata": {},
   "outputs": [
    {
     "name": "stdout",
     "output_type": "stream",
     "text": [
      "<class 'pandas.core.frame.DataFrame'>\n",
      "RangeIndex: 7789 entries, 0 to 7788\n",
      "Data columns (total 11 columns):\n",
      " #   Column        Non-Null Count  Dtype \n",
      "---  ------        --------------  ----- \n",
      " 0   Show_Id       7789 non-null   object\n",
      " 1   Category      7789 non-null   object\n",
      " 2   Title         7789 non-null   object\n",
      " 3   Director      5401 non-null   object\n",
      " 4   Cast          7071 non-null   object\n",
      " 5   Country       7282 non-null   object\n",
      " 6   Release_Date  7779 non-null   object\n",
      " 7   Rating        7782 non-null   object\n",
      " 8   Duration      7789 non-null   object\n",
      " 9   Type          7789 non-null   object\n",
      " 10  Description   7789 non-null   object\n",
      "dtypes: object(11)\n",
      "memory usage: 669.5+ KB\n"
     ]
    }
   ],
   "source": [
    "#information about the dataset\n",
    "df.info()"
   ]
  },
  {
   "cell_type": "code",
   "execution_count": 56,
   "metadata": {
    "execution": {
     "iopub.execute_input": "2025-08-14T16:01:04.005732Z",
     "iopub.status.busy": "2025-08-14T16:01:04.004849Z",
     "iopub.status.idle": "2025-08-14T16:01:04.027913Z",
     "shell.execute_reply": "2025-08-14T16:01:04.025947Z",
     "shell.execute_reply.started": "2025-08-14T16:01:04.005688Z"
    },
    "trusted": true
   },
   "outputs": [
    {
     "data": {
      "text/plain": [
       "Show_Id            0\n",
       "Category           0\n",
       "Title              0\n",
       "Director        2388\n",
       "Cast             718\n",
       "Country          507\n",
       "Release_Date      10\n",
       "Rating             7\n",
       "Duration           0\n",
       "Type               0\n",
       "Description        0\n",
       "dtype: int64"
      ]
     },
     "execution_count": 56,
     "metadata": {},
     "output_type": "execute_result"
    }
   ],
   "source": [
    "#checking for missing values\n",
    "missing_values=df.isnull().sum()\n",
    "missing_values"
   ]
  },
  {
   "cell_type": "code",
   "execution_count": 57,
   "metadata": {},
   "outputs": [
    {
     "data": {
      "text/html": [
       "<div>\n",
       "<style scoped>\n",
       "    .dataframe tbody tr th:only-of-type {\n",
       "        vertical-align: middle;\n",
       "    }\n",
       "\n",
       "    .dataframe tbody tr th {\n",
       "        vertical-align: top;\n",
       "    }\n",
       "\n",
       "    .dataframe thead th {\n",
       "        text-align: right;\n",
       "    }\n",
       "</style>\n",
       "<table border=\"1\" class=\"dataframe\">\n",
       "  <thead>\n",
       "    <tr style=\"text-align: right;\">\n",
       "      <th></th>\n",
       "      <th>Show_Id</th>\n",
       "      <th>Category</th>\n",
       "      <th>Title</th>\n",
       "      <th>Director</th>\n",
       "      <th>Cast</th>\n",
       "      <th>Country</th>\n",
       "      <th>Release_Date</th>\n",
       "      <th>Rating</th>\n",
       "      <th>Duration</th>\n",
       "      <th>Type</th>\n",
       "      <th>Description</th>\n",
       "    </tr>\n",
       "  </thead>\n",
       "  <tbody>\n",
       "    <tr>\n",
       "      <th>6300</th>\n",
       "      <td>s684</td>\n",
       "      <td>Movie</td>\n",
       "      <td>Backfire</td>\n",
       "      <td>Dave Patten</td>\n",
       "      <td>Black Deniro, Byron \"Squally\" Vinson, Dominic ...</td>\n",
       "      <td>United States</td>\n",
       "      <td>April 5, 2019</td>\n",
       "      <td>TV-MA</td>\n",
       "      <td>97 min</td>\n",
       "      <td>Dramas, Independent Movies, Thrillers</td>\n",
       "      <td>When two would-be robbers accidentally kill a ...</td>\n",
       "    </tr>\n",
       "    <tr>\n",
       "      <th>6622</th>\n",
       "      <td>s6621</td>\n",
       "      <td>Movie</td>\n",
       "      <td>The Lost Okoroshi</td>\n",
       "      <td>Abba T. Makama</td>\n",
       "      <td>Seun Ajayi, Judith Audu, Tope Tedela, Ifu Enna...</td>\n",
       "      <td>Nigeria</td>\n",
       "      <td>September 4, 2020</td>\n",
       "      <td>TV-MA</td>\n",
       "      <td>94 min</td>\n",
       "      <td>Comedies, Dramas, Independent Movies</td>\n",
       "      <td>A disillusioned security guard transforms into...</td>\n",
       "    </tr>\n",
       "  </tbody>\n",
       "</table>\n",
       "</div>"
      ],
      "text/plain": [
       "     Show_Id Category              Title        Director  \\\n",
       "6300    s684    Movie           Backfire     Dave Patten   \n",
       "6622   s6621    Movie  The Lost Okoroshi  Abba T. Makama   \n",
       "\n",
       "                                                   Cast        Country  \\\n",
       "6300  Black Deniro, Byron \"Squally\" Vinson, Dominic ...  United States   \n",
       "6622  Seun Ajayi, Judith Audu, Tope Tedela, Ifu Enna...        Nigeria   \n",
       "\n",
       "           Release_Date Rating Duration  \\\n",
       "6300      April 5, 2019  TV-MA   97 min   \n",
       "6622  September 4, 2020  TV-MA   94 min   \n",
       "\n",
       "                                       Type  \\\n",
       "6300  Dramas, Independent Movies, Thrillers   \n",
       "6622   Comedies, Dramas, Independent Movies   \n",
       "\n",
       "                                            Description  \n",
       "6300  When two would-be robbers accidentally kill a ...  \n",
       "6622  A disillusioned security guard transforms into...  "
      ]
     },
     "execution_count": 57,
     "metadata": {},
     "output_type": "execute_result"
    }
   ],
   "source": [
    "#checking for duplicates\n",
    "df.duplicated().sum()\n",
    "df[df.duplicated()]\n"
   ]
  },
  {
   "cell_type": "code",
   "execution_count": 58,
   "metadata": {},
   "outputs": [
    {
     "name": "stdout",
     "output_type": "stream",
     "text": [
      "We have a total of 5379 movies\n"
     ]
    }
   ],
   "source": [
    "#total number of movies\n",
    "total_movies=(df['Category']=='Movie').sum()\n",
    "print(f\"We have a total of {total_movies} movies\")"
   ]
  },
  {
   "cell_type": "code",
   "execution_count": 59,
   "metadata": {},
   "outputs": [
    {
     "name": "stdout",
     "output_type": "stream",
     "text": [
      "We have a total of 2410 movies\n"
     ]
    }
   ],
   "source": [
    "#total number of TV Show\n",
    "total_TVshows=(df['Category']=='TV Show').sum()\n",
    "print(f\"We have a total of {total_TVshows} movies\")"
   ]
  },
  {
   "cell_type": "markdown",
   "metadata": {},
   "source": [
    "------------------------------------------------------------------\n",
    "\n",
    "### General Overview\n",
    "\n",
    "• The dataset has 7789 rows and 11 columns(Show_Id, Category,Title, Director, Cast, Country,Release_Date,Rating,Duration,Type,'Description')\n",
    "\n",
    "• 3630 missing values were found in the dataset\n",
    "\n",
    "•There are 5379 movies and 2410 TV shows\n",
    "\n",
    "\n"
   ]
  },
  {
   "cell_type": "markdown",
   "metadata": {},
   "source": [
    "--------------------------------------------------------------\n",
    "\n",
    "### Exploratory Data Analysis"
   ]
  },
  {
   "cell_type": "markdown",
   "metadata": {},
   "source": [
    "Run statistical summary of the Dataset\n",
    "* For 'House of Cards', what is the Show Id and Who is the Director of this show ?\n",
    "* In which year the highest number of the TV Shows & Movies were released ? Show with Bar Graph.\n",
    "* How many Movies & TV Shows are in the dataset ? Show with Bar Graph.\n",
    "* Show all the Movies that were released in year 2000.\n",
    "* Show only the Titles of all TV Shows that were released in India only.\n",
    "* Show Top 10 Directors, who gave the highest number of TV Shows & Movies to Netflix ?\n",
    "* Show all the Records, where \"Category is Movie and Type is Comedies\" or \"Country is United Kingdom\".\n",
    "* In how many movies/shows, Tom Cruise was cast ?\n",
    "* What are the different Ratings defined by Netflix ?\n",
    "* How many Movies got the 'TV-14' rating, in Canada ?\n",
    "* How many TV Shows got the 'R' rating, after year 2018 ?\n",
    "* What is the maximum duration of a Movie/Show on Netflix ?\n",
    "* Which individual country has the Highest No. of TV Shows ?\n",
    "* How can we sort the dataset by Year ?\n",
    "* Find all the instances where: Category is 'Movie' and Type is 'Dramas' or Category is 'TV Show' & Type is 'Kids' TV'."
   ]
  },
  {
   "cell_type": "code",
   "execution_count": 60,
   "metadata": {},
   "outputs": [
    {
     "data": {
      "text/html": [
       "<div>\n",
       "<style scoped>\n",
       "    .dataframe tbody tr th:only-of-type {\n",
       "        vertical-align: middle;\n",
       "    }\n",
       "\n",
       "    .dataframe tbody tr th {\n",
       "        vertical-align: top;\n",
       "    }\n",
       "\n",
       "    .dataframe thead th {\n",
       "        text-align: right;\n",
       "    }\n",
       "</style>\n",
       "<table border=\"1\" class=\"dataframe\">\n",
       "  <thead>\n",
       "    <tr style=\"text-align: right;\">\n",
       "      <th></th>\n",
       "      <th>Show_Id</th>\n",
       "      <th>Category</th>\n",
       "      <th>Title</th>\n",
       "      <th>Director</th>\n",
       "      <th>Cast</th>\n",
       "      <th>Country</th>\n",
       "      <th>Release_Date</th>\n",
       "      <th>Rating</th>\n",
       "      <th>Duration</th>\n",
       "      <th>Type</th>\n",
       "      <th>Description</th>\n",
       "    </tr>\n",
       "  </thead>\n",
       "  <tbody>\n",
       "    <tr>\n",
       "      <th>count</th>\n",
       "      <td>7789</td>\n",
       "      <td>7789</td>\n",
       "      <td>7789</td>\n",
       "      <td>5401</td>\n",
       "      <td>7071</td>\n",
       "      <td>7282</td>\n",
       "      <td>7779</td>\n",
       "      <td>7782</td>\n",
       "      <td>7789</td>\n",
       "      <td>7789</td>\n",
       "      <td>7789</td>\n",
       "    </tr>\n",
       "    <tr>\n",
       "      <th>unique</th>\n",
       "      <td>7787</td>\n",
       "      <td>2</td>\n",
       "      <td>7787</td>\n",
       "      <td>4050</td>\n",
       "      <td>6831</td>\n",
       "      <td>681</td>\n",
       "      <td>1565</td>\n",
       "      <td>14</td>\n",
       "      <td>216</td>\n",
       "      <td>492</td>\n",
       "      <td>7769</td>\n",
       "    </tr>\n",
       "    <tr>\n",
       "      <th>top</th>\n",
       "      <td>s684</td>\n",
       "      <td>Movie</td>\n",
       "      <td>Backfire</td>\n",
       "      <td>Raúl Campos, Jan Suter</td>\n",
       "      <td>David Attenborough</td>\n",
       "      <td>United States</td>\n",
       "      <td>January 1, 2020</td>\n",
       "      <td>TV-MA</td>\n",
       "      <td>1 Season</td>\n",
       "      <td>Documentaries</td>\n",
       "      <td>Multiple women report their husbands as missin...</td>\n",
       "    </tr>\n",
       "    <tr>\n",
       "      <th>freq</th>\n",
       "      <td>2</td>\n",
       "      <td>5379</td>\n",
       "      <td>2</td>\n",
       "      <td>18</td>\n",
       "      <td>18</td>\n",
       "      <td>2556</td>\n",
       "      <td>118</td>\n",
       "      <td>2865</td>\n",
       "      <td>1608</td>\n",
       "      <td>334</td>\n",
       "      <td>3</td>\n",
       "    </tr>\n",
       "  </tbody>\n",
       "</table>\n",
       "</div>"
      ],
      "text/plain": [
       "       Show_Id Category     Title                Director                Cast  \\\n",
       "count     7789     7789      7789                    5401                7071   \n",
       "unique    7787        2      7787                    4050                6831   \n",
       "top       s684    Movie  Backfire  Raúl Campos, Jan Suter  David Attenborough   \n",
       "freq         2     5379         2                      18                  18   \n",
       "\n",
       "              Country     Release_Date Rating  Duration           Type  \\\n",
       "count            7282             7779   7782      7789           7789   \n",
       "unique            681             1565     14       216            492   \n",
       "top     United States  January 1, 2020  TV-MA  1 Season  Documentaries   \n",
       "freq             2556              118   2865      1608            334   \n",
       "\n",
       "                                              Description  \n",
       "count                                                7789  \n",
       "unique                                               7769  \n",
       "top     Multiple women report their husbands as missin...  \n",
       "freq                                                    3  "
      ]
     },
     "execution_count": 60,
     "metadata": {},
     "output_type": "execute_result"
    }
   ],
   "source": [
    "#Statistical summary of the dataset\n",
    "df.describe()"
   ]
  },
  {
   "cell_type": "markdown",
   "metadata": {},
   "source": [
    "###  Data Cleaning Pipeline\n",
    "To prepare the dataset for analysis, I created reusable cleaning functions and applied them using `pipe()`:"
   ]
  },
  {
   "cell_type": "code",
   "execution_count": 61,
   "metadata": {},
   "outputs": [
    {
     "name": "stdout",
     "output_type": "stream",
     "text": [
      "Original Release_Date sample:\n",
      "0      August 14, 2020\n",
      "1    December 23, 2016\n",
      "2    December 20, 2018\n",
      "3    November 16, 2017\n",
      "4      January 1, 2020\n",
      "5         July 1, 2017\n",
      "6         June 1, 2020\n",
      "7     November 1, 2019\n",
      "8        April 1, 2019\n",
      "9    December 15, 2017\n",
      "Name: Release_Date, dtype: object\n",
      "Data type: object\n",
      "Unique values sample: ['August 14, 2020' 'December 23, 2016' 'December 20, 2018'\n",
      " 'November 16, 2017' 'January 1, 2020']\n"
     ]
    }
   ],
   "source": [
    "# Run this BEFORE your cleaning function to see what's in Release_Date\n",
    "print(\"Original Release_Date sample:\")\n",
    "print(df['Release_Date'].head(10))\n",
    "print(f\"Data type: {df['Release_Date'].dtype}\")\n",
    "print(f\"Unique values sample: {df['Release_Date'].unique()[:5]}\")"
   ]
  },
  {
   "cell_type": "code",
   "execution_count": 62,
   "metadata": {
    "execution": {
     "iopub.execute_input": "2025-08-14T16:01:09.791839Z",
     "iopub.status.busy": "2025-08-14T16:01:09.791266Z",
     "iopub.status.idle": "2025-08-14T16:01:09.846554Z",
     "shell.execute_reply": "2025-08-14T16:01:09.844708Z",
     "shell.execute_reply.started": "2025-08-14T16:01:09.791802Z"
    },
    "trusted": true
   },
   "outputs": [],
   "source": [
    "# Data Cleaning\n",
    "def clean_data(df):\n",
    "    df = df.copy()\n",
    "    col_fill = ['Director', 'Cast', 'Country', 'Rating']\n",
    "\n",
    "    # Fill missing values\n",
    "    for col in col_fill:\n",
    "        if col in df.columns:\n",
    "            df[col] = df[col].fillna('Unknown')\n",
    "\n",
    "    # Convert Release_Date to datetime\n",
    "    if 'Release_Date' in df.columns:\n",
    "        df['Release_Date'] = pd.to_datetime(df['Release_Date'], errors='coerce')\n",
    "\n",
    "        # Drop rows where conversion failed\n",
    "        df = df[df['Release_Date'].notna()].copy()\n",
    "\n",
    "        # Ensure column is datetime before using .dt\n",
    "        if pd.api.types.is_datetime64_any_dtype(df['Release_Date']):\n",
    "            df['Release_Year'] = df['Release_Date'].dt.year\n",
    "\n",
    "    return df\n",
    "\n",
    "def clean_column_names(df):\n",
    "    df = df.copy()\n",
    "\n",
    "    # Apply string cleaning only to object (string) columns\n",
    "    for col in df.select_dtypes(include='object').columns:\n",
    "        df[col] = df[col].str.strip().str.title()\n",
    "\n",
    "    # Clean column names themselves\n",
    "    df.columns = df.columns.str.strip().str.title()\n",
    "\n",
    "    return df\n",
    "\n",
    "\n",
    "df = (\n",
    "    df\n",
    "    .pipe(clean_data)\n",
    "    .pipe(clean_column_names)\n",
    ")\n"
   ]
  },
  {
   "cell_type": "code",
   "execution_count": 63,
   "metadata": {},
   "outputs": [
    {
     "data": {
      "text/html": [
       "<div>\n",
       "<style scoped>\n",
       "    .dataframe tbody tr th:only-of-type {\n",
       "        vertical-align: middle;\n",
       "    }\n",
       "\n",
       "    .dataframe tbody tr th {\n",
       "        vertical-align: top;\n",
       "    }\n",
       "\n",
       "    .dataframe thead th {\n",
       "        text-align: right;\n",
       "    }\n",
       "</style>\n",
       "<table border=\"1\" class=\"dataframe\">\n",
       "  <thead>\n",
       "    <tr style=\"text-align: right;\">\n",
       "      <th></th>\n",
       "      <th>Show_Id</th>\n",
       "      <th>Category</th>\n",
       "      <th>Title</th>\n",
       "      <th>Director</th>\n",
       "      <th>Cast</th>\n",
       "      <th>Country</th>\n",
       "      <th>Release_Date</th>\n",
       "      <th>Rating</th>\n",
       "      <th>Duration</th>\n",
       "      <th>Type</th>\n",
       "      <th>Description</th>\n",
       "      <th>Release_Year</th>\n",
       "    </tr>\n",
       "  </thead>\n",
       "  <tbody>\n",
       "    <tr>\n",
       "      <th>0</th>\n",
       "      <td>S1</td>\n",
       "      <td>Tv Show</td>\n",
       "      <td>3%</td>\n",
       "      <td>Unknown</td>\n",
       "      <td>João Miguel, Bianca Comparato, Michel Gomes, R...</td>\n",
       "      <td>Brazil</td>\n",
       "      <td>2020-08-14</td>\n",
       "      <td>Tv-Ma</td>\n",
       "      <td>4 Seasons</td>\n",
       "      <td>International Tv Shows, Tv Dramas, Tv Sci-Fi &amp;...</td>\n",
       "      <td>In A Future Where The Elite Inhabit An Island ...</td>\n",
       "      <td>2020</td>\n",
       "    </tr>\n",
       "    <tr>\n",
       "      <th>1</th>\n",
       "      <td>S2</td>\n",
       "      <td>Movie</td>\n",
       "      <td>07:19</td>\n",
       "      <td>Jorge Michel Grau</td>\n",
       "      <td>Demián Bichir, Héctor Bonilla, Oscar Serrano, ...</td>\n",
       "      <td>Mexico</td>\n",
       "      <td>2016-12-23</td>\n",
       "      <td>Tv-Ma</td>\n",
       "      <td>93 Min</td>\n",
       "      <td>Dramas, International Movies</td>\n",
       "      <td>After A Devastating Earthquake Hits Mexico Cit...</td>\n",
       "      <td>2016</td>\n",
       "    </tr>\n",
       "    <tr>\n",
       "      <th>2</th>\n",
       "      <td>S3</td>\n",
       "      <td>Movie</td>\n",
       "      <td>23:59</td>\n",
       "      <td>Gilbert Chan</td>\n",
       "      <td>Tedd Chan, Stella Chung, Henley Hii, Lawrence ...</td>\n",
       "      <td>Singapore</td>\n",
       "      <td>2018-12-20</td>\n",
       "      <td>R</td>\n",
       "      <td>78 Min</td>\n",
       "      <td>Horror Movies, International Movies</td>\n",
       "      <td>When An Army Recruit Is Found Dead, His Fellow...</td>\n",
       "      <td>2018</td>\n",
       "    </tr>\n",
       "    <tr>\n",
       "      <th>3</th>\n",
       "      <td>S4</td>\n",
       "      <td>Movie</td>\n",
       "      <td>9</td>\n",
       "      <td>Shane Acker</td>\n",
       "      <td>Elijah Wood, John C. Reilly, Jennifer Connelly...</td>\n",
       "      <td>United States</td>\n",
       "      <td>2017-11-16</td>\n",
       "      <td>Pg-13</td>\n",
       "      <td>80 Min</td>\n",
       "      <td>Action &amp; Adventure, Independent Movies, Sci-Fi...</td>\n",
       "      <td>In A Postapocalyptic World, Rag-Doll Robots Hi...</td>\n",
       "      <td>2017</td>\n",
       "    </tr>\n",
       "    <tr>\n",
       "      <th>4</th>\n",
       "      <td>S5</td>\n",
       "      <td>Movie</td>\n",
       "      <td>21</td>\n",
       "      <td>Robert Luketic</td>\n",
       "      <td>Jim Sturgess, Kevin Spacey, Kate Bosworth, Aar...</td>\n",
       "      <td>United States</td>\n",
       "      <td>2020-01-01</td>\n",
       "      <td>Pg-13</td>\n",
       "      <td>123 Min</td>\n",
       "      <td>Dramas</td>\n",
       "      <td>A Brilliant Group Of Students Become Card-Coun...</td>\n",
       "      <td>2020</td>\n",
       "    </tr>\n",
       "  </tbody>\n",
       "</table>\n",
       "</div>"
      ],
      "text/plain": [
       "  Show_Id Category  Title           Director  \\\n",
       "0      S1  Tv Show     3%            Unknown   \n",
       "1      S2    Movie  07:19  Jorge Michel Grau   \n",
       "2      S3    Movie  23:59       Gilbert Chan   \n",
       "3      S4    Movie      9        Shane Acker   \n",
       "4      S5    Movie     21     Robert Luketic   \n",
       "\n",
       "                                                Cast        Country  \\\n",
       "0  João Miguel, Bianca Comparato, Michel Gomes, R...         Brazil   \n",
       "1  Demián Bichir, Héctor Bonilla, Oscar Serrano, ...         Mexico   \n",
       "2  Tedd Chan, Stella Chung, Henley Hii, Lawrence ...      Singapore   \n",
       "3  Elijah Wood, John C. Reilly, Jennifer Connelly...  United States   \n",
       "4  Jim Sturgess, Kevin Spacey, Kate Bosworth, Aar...  United States   \n",
       "\n",
       "  Release_Date Rating   Duration  \\\n",
       "0   2020-08-14  Tv-Ma  4 Seasons   \n",
       "1   2016-12-23  Tv-Ma     93 Min   \n",
       "2   2018-12-20      R     78 Min   \n",
       "3   2017-11-16  Pg-13     80 Min   \n",
       "4   2020-01-01  Pg-13    123 Min   \n",
       "\n",
       "                                                Type  \\\n",
       "0  International Tv Shows, Tv Dramas, Tv Sci-Fi &...   \n",
       "1                       Dramas, International Movies   \n",
       "2                Horror Movies, International Movies   \n",
       "3  Action & Adventure, Independent Movies, Sci-Fi...   \n",
       "4                                             Dramas   \n",
       "\n",
       "                                         Description  Release_Year  \n",
       "0  In A Future Where The Elite Inhabit An Island ...          2020  \n",
       "1  After A Devastating Earthquake Hits Mexico Cit...          2016  \n",
       "2  When An Army Recruit Is Found Dead, His Fellow...          2018  \n",
       "3  In A Postapocalyptic World, Rag-Doll Robots Hi...          2017  \n",
       "4  A Brilliant Group Of Students Become Card-Coun...          2020  "
      ]
     },
     "execution_count": 63,
     "metadata": {},
     "output_type": "execute_result"
    }
   ],
   "source": [
    "#preview the first 5 rows of the cleaned dataset\n",
    "df.head()"
   ]
  },
  {
   "cell_type": "code",
   "execution_count": 64,
   "metadata": {
    "execution": {
     "iopub.execute_input": "2025-08-14T16:01:15.742081Z",
     "iopub.status.busy": "2025-08-14T16:01:15.741650Z",
     "iopub.status.idle": "2025-08-14T16:01:15.761285Z",
     "shell.execute_reply": "2025-08-14T16:01:15.759642Z",
     "shell.execute_reply.started": "2025-08-14T16:01:15.742050Z"
    },
    "trusted": true
   },
   "outputs": [
    {
     "data": {
      "text/plain": [
       "Show_Id         0\n",
       "Category        0\n",
       "Title           0\n",
       "Director        0\n",
       "Cast            0\n",
       "Country         0\n",
       "Release_Date    0\n",
       "Rating          0\n",
       "Duration        0\n",
       "Type            0\n",
       "Description     0\n",
       "Release_Year    0\n",
       "dtype: int64"
      ]
     },
     "execution_count": 64,
     "metadata": {},
     "output_type": "execute_result"
    }
   ],
   "source": [
    "#checking for missing values\n",
    "df.isnull().sum()"
   ]
  },
  {
   "cell_type": "code",
   "execution_count": 65,
   "metadata": {},
   "outputs": [
    {
     "name": "stdout",
     "output_type": "stream",
     "text": [
      "<class 'pandas.core.frame.DataFrame'>\n",
      "Index: 7691 entries, 0 to 7788\n",
      "Data columns (total 12 columns):\n",
      " #   Column        Non-Null Count  Dtype         \n",
      "---  ------        --------------  -----         \n",
      " 0   Show_Id       7691 non-null   object        \n",
      " 1   Category      7691 non-null   object        \n",
      " 2   Title         7691 non-null   object        \n",
      " 3   Director      7691 non-null   object        \n",
      " 4   Cast          7691 non-null   object        \n",
      " 5   Country       7691 non-null   object        \n",
      " 6   Release_Date  7691 non-null   datetime64[ns]\n",
      " 7   Rating        7691 non-null   object        \n",
      " 8   Duration      7691 non-null   object        \n",
      " 9   Type          7691 non-null   object        \n",
      " 10  Description   7691 non-null   object        \n",
      " 11  Release_Year  7691 non-null   int32         \n",
      "dtypes: datetime64[ns](1), int32(1), object(10)\n",
      "memory usage: 751.1+ KB\n"
     ]
    }
   ],
   "source": [
    "#Quick summary of the dataset\n",
    "df.info()"
   ]
  },
  {
   "cell_type": "markdown",
   "metadata": {},
   "source": [
    "### EDA ANSWERS\n",
    "•The data was collected from 2008 to 2021"
   ]
  },
  {
   "cell_type": "markdown",
   "metadata": {},
   "source": [
    "--------------------------------------------------------------------\n",
    "1) For 'House of Cards', what is the Show Id and Who is the Director of this show ?"
   ]
  },
  {
   "cell_type": "code",
   "execution_count": 66,
   "metadata": {
    "execution": {
     "iopub.execute_input": "2025-08-14T16:01:54.946639Z",
     "iopub.status.busy": "2025-08-14T16:01:54.946183Z",
     "iopub.status.idle": "2025-08-14T16:01:54.966191Z",
     "shell.execute_reply": "2025-08-14T16:01:54.964616Z",
     "shell.execute_reply.started": "2025-08-14T16:01:54.946610Z"
    },
    "trusted": true
   },
   "outputs": [
    {
     "data": {
      "text/html": [
       "<div>\n",
       "<style scoped>\n",
       "    .dataframe tbody tr th:only-of-type {\n",
       "        vertical-align: middle;\n",
       "    }\n",
       "\n",
       "    .dataframe tbody tr th {\n",
       "        vertical-align: top;\n",
       "    }\n",
       "\n",
       "    .dataframe thead th {\n",
       "        text-align: right;\n",
       "    }\n",
       "</style>\n",
       "<table border=\"1\" class=\"dataframe\">\n",
       "  <thead>\n",
       "    <tr style=\"text-align: right;\">\n",
       "      <th></th>\n",
       "      <th>Show_Id</th>\n",
       "      <th>Director</th>\n",
       "      <th>Title</th>\n",
       "    </tr>\n",
       "  </thead>\n",
       "  <tbody>\n",
       "    <tr>\n",
       "      <th>2832</th>\n",
       "      <td>S2833</td>\n",
       "      <td>Robin Wright, David Fincher, Gerald Mcraney, J...</td>\n",
       "      <td>House Of Cards</td>\n",
       "    </tr>\n",
       "  </tbody>\n",
       "</table>\n",
       "</div>"
      ],
      "text/plain": [
       "     Show_Id                                           Director  \\\n",
       "2832   S2833  Robin Wright, David Fincher, Gerald Mcraney, J...   \n",
       "\n",
       "               Title  \n",
       "2832  House Of Cards  "
      ]
     },
     "execution_count": 66,
     "metadata": {},
     "output_type": "execute_result"
    }
   ],
   "source": [
    "\n",
    "df.loc[df['Title']=='House Of Cards',['Show_Id','Director','Title']]\n"
   ]
  },
  {
   "cell_type": "markdown",
   "metadata": {},
   "source": [
    "2) In which year the highest number of the TV Shows & Movies were released ? "
   ]
  },
  {
   "cell_type": "code",
   "execution_count": 67,
   "metadata": {
    "execution": {
     "iopub.execute_input": "2025-08-14T16:01:59.933242Z",
     "iopub.status.busy": "2025-08-14T16:01:59.931373Z",
     "iopub.status.idle": "2025-08-14T16:01:59.947139Z",
     "shell.execute_reply": "2025-08-14T16:01:59.944549Z",
     "shell.execute_reply.started": "2025-08-14T16:01:59.933171Z"
    },
    "trusted": true
   },
   "outputs": [
    {
     "name": "stdout",
     "output_type": "stream",
     "text": [
      "2019 had 2137 tv shows and movies\n"
     ]
    },
    {
     "data": {
      "image/png": "[encoded data removed]",
      "text/plain": [
       "<Figure size 1200x600 with 1 Axes>"
      ]
     },
     "metadata": {},
     "output_type": "display_data"
    }
   ],
   "source": [
    "# Count the number of titles released each year\n",
    "year_count=df.groupby('Release_Year').size()\n",
    "\n",
    "# Find the year with the highest number of releases\n",
    "max_year=year_count.idxmax()\n",
    "print(f\"{max_year} had {year_count.max()} tv shows and movies\")\n",
    "\n",
    "year_count.plot(kind='bar', figsize=(12, 6))\n",
    "plt.title('Number of Releases by Year')\n",
    "plt.xlabel('Release Year')\n",
    "plt.ylabel('Number of Releases')\n",
    "plt.xticks(rotation=45)\n",
    "plt.tight_layout()  \n",
    "plt.show()\n",
    "\n"
   ]
  },
  {
   "cell_type": "markdown",
   "metadata": {},
   "source": [
    "3) How many Movies & TV Shows are in the dataset ? Show with Bar Graph."
   ]
  },
  {
   "cell_type": "code",
   "execution_count": 68,
   "metadata": {
    "execution": {
     "iopub.execute_input": "2025-08-14T16:02:06.626439Z",
     "iopub.status.busy": "2025-08-14T16:02:06.625912Z",
     "iopub.status.idle": "2025-08-14T16:02:06.839871Z",
     "shell.execute_reply": "2025-08-14T16:02:06.837962Z",
     "shell.execute_reply.started": "2025-08-14T16:02:06.626381Z"
    },
    "trusted": true
   },
   "outputs": [
    {
     "data": {
      "image/png": "[encoded data removed]",
      "text/plain": [
       "<Figure size 600x400 with 1 Axes>"
      ]
     },
     "metadata": {},
     "output_type": "display_data"
    },
    {
     "name": "stdout",
     "output_type": "stream",
     "text": [
      "Category\n",
      "Movie      5379\n",
      "Tv Show    2312\n",
      "dtype: int64\n"
     ]
    }
   ],
   "source": [
    "# Count the number of titles in each Category (Movie or TV Show)\n",
    "category_counts=df.groupby('Category').size()\n",
    "# Bar chart\n",
    "category_counts.plot(kind='bar', color=['pink', 'purple'], figsize=(6,4))\n",
    "plt.title('Number of Movies and TV Shows on df')\n",
    "plt.xlabel('Category')\n",
    "plt.ylabel('Count')\n",
    "plt.show()\n",
    "\n",
    "print(category_counts)\n",
    "\n"
   ]
  },
  {
   "cell_type": "markdown",
   "metadata": {},
   "source": [
    "4) Show all the Movies that were released in year 2015."
   ]
  },
  {
   "cell_type": "code",
   "execution_count": 69,
   "metadata": {
    "execution": {
     "iopub.execute_input": "2025-08-14T16:02:11.153359Z",
     "iopub.status.busy": "2025-08-14T16:02:11.152686Z",
     "iopub.status.idle": "2025-08-14T16:02:11.193757Z",
     "shell.execute_reply": "2025-08-14T16:02:11.191825Z",
     "shell.execute_reply.started": "2025-08-14T16:02:11.153164Z"
    },
    "trusted": true
   },
   "outputs": [
    {
     "data": {
      "text/html": [
       "<div>\n",
       "<style scoped>\n",
       "    .dataframe tbody tr th:only-of-type {\n",
       "        vertical-align: middle;\n",
       "    }\n",
       "\n",
       "    .dataframe tbody tr th {\n",
       "        vertical-align: top;\n",
       "    }\n",
       "\n",
       "    .dataframe thead th {\n",
       "        text-align: right;\n",
       "    }\n",
       "</style>\n",
       "<table border=\"1\" class=\"dataframe\">\n",
       "  <thead>\n",
       "    <tr style=\"text-align: right;\">\n",
       "      <th></th>\n",
       "      <th>Show_Id</th>\n",
       "      <th>Category</th>\n",
       "      <th>Title</th>\n",
       "      <th>Director</th>\n",
       "      <th>Cast</th>\n",
       "      <th>Country</th>\n",
       "      <th>Release_Date</th>\n",
       "      <th>Rating</th>\n",
       "      <th>Duration</th>\n",
       "      <th>Type</th>\n",
       "      <th>Description</th>\n",
       "      <th>Release_Year</th>\n",
       "    </tr>\n",
       "  </thead>\n",
       "  <tbody>\n",
       "    <tr>\n",
       "      <th>128</th>\n",
       "      <td>S129</td>\n",
       "      <td>Movie</td>\n",
       "      <td>6 Years</td>\n",
       "      <td>Hannah Fidell</td>\n",
       "      <td>Taissa Farmiga, Ben Rosenfield, Lindsay Burdge...</td>\n",
       "      <td>United States</td>\n",
       "      <td>2015-09-08</td>\n",
       "      <td>Tv-Ma</td>\n",
       "      <td>80 Min</td>\n",
       "      <td>Dramas, Independent Movies, Romantic Movies</td>\n",
       "      <td>As A Volatile Young Couple Who Have Been Toget...</td>\n",
       "      <td>2015</td>\n",
       "    </tr>\n",
       "    <tr>\n",
       "      <th>247</th>\n",
       "      <td>S248</td>\n",
       "      <td>Movie</td>\n",
       "      <td>A Very Murray Christmas</td>\n",
       "      <td>Sofia Coppola</td>\n",
       "      <td>Bill Murray, Miley Cyrus, George Clooney, Chri...</td>\n",
       "      <td>United States</td>\n",
       "      <td>2015-12-04</td>\n",
       "      <td>Tv-14</td>\n",
       "      <td>57 Min</td>\n",
       "      <td>Comedies, Music &amp; Musicals</td>\n",
       "      <td>Bill Murray Rounds Up An All-Star Cast For An ...</td>\n",
       "      <td>2015</td>\n",
       "    </tr>\n",
       "    <tr>\n",
       "      <th>316</th>\n",
       "      <td>S317</td>\n",
       "      <td>Movie</td>\n",
       "      <td>Advantageous</td>\n",
       "      <td>Jennifer Phang</td>\n",
       "      <td>Jacqueline Kim, James Urbaniak, Freya Adams, K...</td>\n",
       "      <td>United States</td>\n",
       "      <td>2015-06-23</td>\n",
       "      <td>Tv-Ma</td>\n",
       "      <td>92 Min</td>\n",
       "      <td>Dramas, Independent Movies, Sci-Fi &amp; Fantasy</td>\n",
       "      <td>In Order To Keep Her Job At A Biomedical Engin...</td>\n",
       "      <td>2015</td>\n",
       "    </tr>\n",
       "    <tr>\n",
       "      <th>535</th>\n",
       "      <td>S536</td>\n",
       "      <td>Movie</td>\n",
       "      <td>Anjelah Johnson: Not Fancy</td>\n",
       "      <td>Jay Karas</td>\n",
       "      <td>Anjelah Johnson-Reyes</td>\n",
       "      <td>United States</td>\n",
       "      <td>2015-10-02</td>\n",
       "      <td>Tv-14</td>\n",
       "      <td>64 Min</td>\n",
       "      <td>Stand-Up Comedy</td>\n",
       "      <td>The Actress, Comedian And Youtube Sensation Ri...</td>\n",
       "      <td>2015</td>\n",
       "    </tr>\n",
       "    <tr>\n",
       "      <th>551</th>\n",
       "      <td>S552</td>\n",
       "      <td>Movie</td>\n",
       "      <td>Anthony Jeselnik: Thoughts And Prayers</td>\n",
       "      <td>Adam Dubin</td>\n",
       "      <td>Anthony Jeselnik</td>\n",
       "      <td>United States</td>\n",
       "      <td>2015-10-16</td>\n",
       "      <td>Tv-Ma</td>\n",
       "      <td>59 Min</td>\n",
       "      <td>Stand-Up Comedy</td>\n",
       "      <td>There'S No Subject Too Dark As The Comedian Sk...</td>\n",
       "      <td>2015</td>\n",
       "    </tr>\n",
       "  </tbody>\n",
       "</table>\n",
       "</div>"
      ],
      "text/plain": [
       "    Show_Id Category                                   Title        Director  \\\n",
       "128    S129    Movie                                 6 Years   Hannah Fidell   \n",
       "247    S248    Movie                 A Very Murray Christmas   Sofia Coppola   \n",
       "316    S317    Movie                            Advantageous  Jennifer Phang   \n",
       "535    S536    Movie              Anjelah Johnson: Not Fancy       Jay Karas   \n",
       "551    S552    Movie  Anthony Jeselnik: Thoughts And Prayers      Adam Dubin   \n",
       "\n",
       "                                                  Cast        Country  \\\n",
       "128  Taissa Farmiga, Ben Rosenfield, Lindsay Burdge...  United States   \n",
       "247  Bill Murray, Miley Cyrus, George Clooney, Chri...  United States   \n",
       "316  Jacqueline Kim, James Urbaniak, Freya Adams, K...  United States   \n",
       "535                              Anjelah Johnson-Reyes  United States   \n",
       "551                                   Anthony Jeselnik  United States   \n",
       "\n",
       "    Release_Date Rating Duration  \\\n",
       "128   2015-09-08  Tv-Ma   80 Min   \n",
       "247   2015-12-04  Tv-14   57 Min   \n",
       "316   2015-06-23  Tv-Ma   92 Min   \n",
       "535   2015-10-02  Tv-14   64 Min   \n",
       "551   2015-10-16  Tv-Ma   59 Min   \n",
       "\n",
       "                                             Type  \\\n",
       "128   Dramas, Independent Movies, Romantic Movies   \n",
       "247                    Comedies, Music & Musicals   \n",
       "316  Dramas, Independent Movies, Sci-Fi & Fantasy   \n",
       "535                               Stand-Up Comedy   \n",
       "551                               Stand-Up Comedy   \n",
       "\n",
       "                                           Description  Release_Year  \n",
       "128  As A Volatile Young Couple Who Have Been Toget...          2015  \n",
       "247  Bill Murray Rounds Up An All-Star Cast For An ...          2015  \n",
       "316  In Order To Keep Her Job At A Biomedical Engin...          2015  \n",
       "535  The Actress, Comedian And Youtube Sensation Ri...          2015  \n",
       "551  There'S No Subject Too Dark As The Comedian Sk...          2015  "
      ]
     },
     "execution_count": 69,
     "metadata": {},
     "output_type": "execute_result"
    }
   ],
   "source": [
    "movies_2015=df.loc[(df['Release_Year']==2015) & (df['Category']=='Movie')]\n",
    "movies_2015.head()"
   ]
  },
  {
   "cell_type": "markdown",
   "metadata": {},
   "source": [
    "5) Show only the Titles of all TV Shows that were released in India only."
   ]
  },
  {
   "cell_type": "code",
   "execution_count": 70,
   "metadata": {
    "execution": {
     "iopub.execute_input": "2025-08-14T16:02:24.490621Z",
     "iopub.status.busy": "2025-08-14T16:02:24.490198Z",
     "iopub.status.idle": "2025-08-14T16:02:24.502926Z",
     "shell.execute_reply": "2025-08-14T16:02:24.501233Z",
     "shell.execute_reply.started": "2025-08-14T16:02:24.490587Z"
    },
    "trusted": true
   },
   "outputs": [
    {
     "name": "stdout",
     "output_type": "stream",
     "text": [
      "['21 Sarfarosh: Saragarhi 1897', '7 (Seven)', 'Agent Raghav', 'Akbar\\xa0Birbal', 'Anjaan: Rural Myths', 'Anjaan: Special Crimes Unit', 'Bad Boy Billionaires: India', 'Badalte Rishton Ki Dastaan', 'Bard Of Blood', 'Betaal', 'Bh Se Bhade', 'Bhaag Beanie Bhaag', 'Bhaage Re Mann', 'Chhota Bheem', 'Chuchu Tv Nursery Rhymes & Kids Songs (Hindi)', 'Classic Legends', 'College Romance', 'Cricket Fever: Mumbai Indians', 'Darr Sabko Lagta Hai', 'Delhi Crime', 'Devlok With Devdutt Pattanaik', 'Dharmakshetra', 'Engineering Girls', 'Fabulous Lives Of Bollywood Wives', 'Fear Files... Har Mod Pe Darr', 'Gabru: Hip Hop Revolution', 'Gangs Of Hassepur', 'Ghoul', 'Girls Hostel', 'Hasmukh', 'Inmates', 'Jamtara - Sabka Number Ayega', 'Jhansi Ki Rani', 'Khan: No. 1 Crime Hunter', 'Khelti Hai Zindagi Aankh Micholi', 'Khotey Sikkey', 'Ladies Up', 'Leila', 'Little Singham', 'Little Things', 'Maharakshak Devi', 'Maharakshak: Aryan', 'Mahi Way', 'Masaba Masaba', 'Midnight Misadventures With Mallika Dua', 'Mighty Little Bheem: Diwali', 'Mighty Little Bheem: Festival Of Colors', 'Mighty Little Bheem: Kite Festival', 'Mismatched', 'Paava Kadhaigal', 'Powder', 'Raja Rasoi Aur Anya Kahaniyan', 'Ramayan', 'Razia Sultan', 'Regiment Diaries', 'Rishta.Com', 'Sab Jholmaal Hai', 'Selection Day', 'She', 'Stories By Rabindranath Tagore', 'Super Bheem', 'Taj Mahal 1989', 'Th Eena Meena Deeka Chase Comedy Show', 'Thackeray', 'The Calling', 'The Creative Indians', 'The Golden Years With Javed Akhtar', 'The House That Made Me', 'Typewriter', 'Yeh Meri Family']\n"
     ]
    }
   ],
   "source": [
    "\n",
    "tv_shows_india=df.loc[(df['Country']=='India') & (df['Category']=='Tv Show'),'Title'].to_list()\n",
    "print(tv_shows_india)\n"
   ]
  },
  {
   "cell_type": "markdown",
   "metadata": {},
   "source": [
    "6) Show Top 10 Directors, who gave the highest number of TV Shows & Movies to Netflix ?"
   ]
  },
  {
   "cell_type": "code",
   "execution_count": 71,
   "metadata": {
    "execution": {
     "iopub.execute_input": "2025-08-14T16:02:29.363732Z",
     "iopub.status.busy": "2025-08-14T16:02:29.363091Z",
     "iopub.status.idle": "2025-08-14T16:02:29.382317Z",
     "shell.execute_reply": "2025-08-14T16:02:29.380796Z",
     "shell.execute_reply.started": "2025-08-14T16:02:29.363700Z"
    },
    "trusted": true
   },
   "outputs": [
    {
     "data": {
      "text/plain": [
       "Director\n",
       "Unknown                   2295\n",
       "Raúl Campos, Jan Suter      18\n",
       "Marcus Raboy                16\n",
       "Jay Karas                   14\n",
       "Cathy Garcia-Molina         13\n",
       "Jay Chapman                 12\n",
       "Martin Scorsese             12\n",
       "Youssef Chahine             12\n",
       "Steven Spielberg            10\n",
       "David Dhawan                 9\n",
       "dtype: int64"
      ]
     },
     "execution_count": 71,
     "metadata": {},
     "output_type": "execute_result"
    }
   ],
   "source": [
    "director_tv_movie=df.groupby('Director').size()\n",
    "director_tv_movie.sort_values(ascending=False).head(10)\n"
   ]
  },
  {
   "cell_type": "markdown",
   "metadata": {},
   "source": [
    "7) Show all the Records, where \"Category is Movie and Type is Comedies\" or \"Country is United Kingdom\"."
   ]
  },
  {
   "cell_type": "code",
   "execution_count": 72,
   "metadata": {
    "execution": {
     "iopub.execute_input": "2025-08-14T16:02:33.654476Z",
     "iopub.status.busy": "2025-08-14T16:02:33.652160Z",
     "iopub.status.idle": "2025-08-14T16:02:33.687896Z",
     "shell.execute_reply": "2025-08-14T16:02:33.685760Z",
     "shell.execute_reply.started": "2025-08-14T16:02:33.654323Z"
    },
    "trusted": true
   },
   "outputs": [
    {
     "data": {
      "text/html": [
       "<div>\n",
       "<style scoped>\n",
       "    .dataframe tbody tr th:only-of-type {\n",
       "        vertical-align: middle;\n",
       "    }\n",
       "\n",
       "    .dataframe tbody tr th {\n",
       "        vertical-align: top;\n",
       "    }\n",
       "\n",
       "    .dataframe thead th {\n",
       "        text-align: right;\n",
       "    }\n",
       "</style>\n",
       "<table border=\"1\" class=\"dataframe\">\n",
       "  <thead>\n",
       "    <tr style=\"text-align: right;\">\n",
       "      <th></th>\n",
       "      <th>Show_Id</th>\n",
       "      <th>Category</th>\n",
       "      <th>Title</th>\n",
       "      <th>Director</th>\n",
       "      <th>Cast</th>\n",
       "      <th>Country</th>\n",
       "      <th>Release_Date</th>\n",
       "      <th>Rating</th>\n",
       "      <th>Duration</th>\n",
       "      <th>Type</th>\n",
       "      <th>Description</th>\n",
       "      <th>Release_Year</th>\n",
       "    </tr>\n",
       "  </thead>\n",
       "  <tbody>\n",
       "    <tr>\n",
       "      <th>19</th>\n",
       "      <td>S20</td>\n",
       "      <td>Movie</td>\n",
       "      <td>'89</td>\n",
       "      <td>Unknown</td>\n",
       "      <td>Lee Dixon, Ian Wright, Paul Merson</td>\n",
       "      <td>United Kingdom</td>\n",
       "      <td>2018-05-16</td>\n",
       "      <td>Tv-Pg</td>\n",
       "      <td>87 Min</td>\n",
       "      <td>Sports Movies</td>\n",
       "      <td>Mixing Old Footage With Interviews, This Is Th...</td>\n",
       "      <td>2018</td>\n",
       "    </tr>\n",
       "    <tr>\n",
       "      <th>33</th>\n",
       "      <td>S34</td>\n",
       "      <td>Movie</td>\n",
       "      <td>#Realityhigh</td>\n",
       "      <td>Fernando Lebrija</td>\n",
       "      <td>Nesta Cooper, Kate Walsh, John Michael Higgins...</td>\n",
       "      <td>United States</td>\n",
       "      <td>2017-09-08</td>\n",
       "      <td>Tv-14</td>\n",
       "      <td>99 Min</td>\n",
       "      <td>Comedies</td>\n",
       "      <td>When Nerdy High Schooler Dani Finally Attracts...</td>\n",
       "      <td>2017</td>\n",
       "    </tr>\n",
       "    <tr>\n",
       "      <th>72</th>\n",
       "      <td>S73</td>\n",
       "      <td>Movie</td>\n",
       "      <td>17 Again</td>\n",
       "      <td>Burr Steers</td>\n",
       "      <td>Zac Efron, Leslie Mann, Matthew Perry, Thomas ...</td>\n",
       "      <td>United States</td>\n",
       "      <td>2021-01-01</td>\n",
       "      <td>Pg-13</td>\n",
       "      <td>102 Min</td>\n",
       "      <td>Comedies</td>\n",
       "      <td>Nearing A Midlife Crisis, Thirty-Something Mik...</td>\n",
       "      <td>2021</td>\n",
       "    </tr>\n",
       "    <tr>\n",
       "      <th>82</th>\n",
       "      <td>S83</td>\n",
       "      <td>Movie</td>\n",
       "      <td>2036 Origin Unknown</td>\n",
       "      <td>Hasraf Dulull</td>\n",
       "      <td>Katee Sackhoff, Ray Fearon, Julie Cox, Steven ...</td>\n",
       "      <td>United Kingdom</td>\n",
       "      <td>2018-12-20</td>\n",
       "      <td>Tv-14</td>\n",
       "      <td>95 Min</td>\n",
       "      <td>Sci-Fi &amp; Fantasy</td>\n",
       "      <td>Working With An Artificial Intelligence To Inv...</td>\n",
       "      <td>2018</td>\n",
       "    </tr>\n",
       "    <tr>\n",
       "      <th>84</th>\n",
       "      <td>S85</td>\n",
       "      <td>Movie</td>\n",
       "      <td>21 &amp; Over</td>\n",
       "      <td>Jon Lucas, Scott Moore</td>\n",
       "      <td>Miles Teller, Skylar Astin, Justin Chon, Sarah...</td>\n",
       "      <td>United States</td>\n",
       "      <td>2019-04-16</td>\n",
       "      <td>R</td>\n",
       "      <td>93 Min</td>\n",
       "      <td>Comedies</td>\n",
       "      <td>Jeff'S Straight-And-Narrow Life Changes Abrupt...</td>\n",
       "      <td>2019</td>\n",
       "    </tr>\n",
       "  </tbody>\n",
       "</table>\n",
       "</div>"
      ],
      "text/plain": [
       "   Show_Id Category                Title                Director  \\\n",
       "19     S20    Movie                  '89                 Unknown   \n",
       "33     S34    Movie         #Realityhigh        Fernando Lebrija   \n",
       "72     S73    Movie             17 Again             Burr Steers   \n",
       "82     S83    Movie  2036 Origin Unknown           Hasraf Dulull   \n",
       "84     S85    Movie            21 & Over  Jon Lucas, Scott Moore   \n",
       "\n",
       "                                                 Cast         Country  \\\n",
       "19                 Lee Dixon, Ian Wright, Paul Merson  United Kingdom   \n",
       "33  Nesta Cooper, Kate Walsh, John Michael Higgins...   United States   \n",
       "72  Zac Efron, Leslie Mann, Matthew Perry, Thomas ...   United States   \n",
       "82  Katee Sackhoff, Ray Fearon, Julie Cox, Steven ...  United Kingdom   \n",
       "84  Miles Teller, Skylar Astin, Justin Chon, Sarah...   United States   \n",
       "\n",
       "   Release_Date Rating Duration              Type  \\\n",
       "19   2018-05-16  Tv-Pg   87 Min     Sports Movies   \n",
       "33   2017-09-08  Tv-14   99 Min          Comedies   \n",
       "72   2021-01-01  Pg-13  102 Min          Comedies   \n",
       "82   2018-12-20  Tv-14   95 Min  Sci-Fi & Fantasy   \n",
       "84   2019-04-16      R   93 Min          Comedies   \n",
       "\n",
       "                                          Description  Release_Year  \n",
       "19  Mixing Old Footage With Interviews, This Is Th...          2018  \n",
       "33  When Nerdy High Schooler Dani Finally Attracts...          2017  \n",
       "72  Nearing A Midlife Crisis, Thirty-Something Mik...          2021  \n",
       "82  Working With An Artificial Intelligence To Inv...          2018  \n",
       "84  Jeff'S Straight-And-Narrow Life Changes Abrupt...          2019  "
      ]
     },
     "execution_count": 72,
     "metadata": {},
     "output_type": "execute_result"
    }
   ],
   "source": [
    "records=df[(df['Category']=='Movie') & ((df['Type']=='Comedies') | (df['Country']=='United Kingdom'))]\n",
    "records.head()"
   ]
  },
  {
   "cell_type": "markdown",
   "metadata": {},
   "source": [
    " 8) In how many movies/shows, Tom Cruise was cast ?"
   ]
  },
  {
   "cell_type": "code",
   "execution_count": 73,
   "metadata": {
    "execution": {
     "iopub.execute_input": "2025-08-14T16:02:49.156214Z",
     "iopub.status.busy": "2025-08-14T16:02:49.155781Z",
     "iopub.status.idle": "2025-08-14T16:02:49.183029Z",
     "shell.execute_reply": "2025-08-14T16:02:49.181594Z",
     "shell.execute_reply.started": "2025-08-14T16:02:49.156185Z"
    },
    "trusted": true
   },
   "outputs": [
    {
     "data": {
      "text/plain": [
       "2"
      ]
     },
     "execution_count": 73,
     "metadata": {},
     "output_type": "execute_result"
    }
   ],
   "source": [
    "df.loc[df['Cast'].str.contains('Tom Cruise', case=False, na=False)].shape[0]"
   ]
  },
  {
   "cell_type": "markdown",
   "metadata": {},
   "source": [
    "9) What are the different Ratings defined by Netflix ?"
   ]
  },
  {
   "cell_type": "code",
   "execution_count": 74,
   "metadata": {
    "execution": {
     "iopub.execute_input": "2025-08-14T16:02:55.481304Z",
     "iopub.status.busy": "2025-08-14T16:02:55.480781Z",
     "iopub.status.idle": "2025-08-14T16:02:55.492738Z",
     "shell.execute_reply": "2025-08-14T16:02:55.490223Z",
     "shell.execute_reply.started": "2025-08-14T16:02:55.481248Z"
    },
    "trusted": true
   },
   "outputs": [
    {
     "data": {
      "text/plain": [
       "array(['Tv-Ma', 'R', 'Pg-13', 'Tv-14', 'Tv-Pg', 'Nr', 'Tv-G', 'Tv-Y',\n",
       "       'Unknown', 'Tv-Y7', 'Pg', 'G', 'Nc-17', 'Tv-Y7-Fv', 'Ur'],\n",
       "      dtype=object)"
      ]
     },
     "execution_count": 74,
     "metadata": {},
     "output_type": "execute_result"
    }
   ],
   "source": [
    "df['Rating'].unique()"
   ]
  },
  {
   "cell_type": "markdown",
   "metadata": {},
   "source": [
    "9.1) How many Movies got the 'TV-14' rating, in Canada "
   ]
  },
  {
   "cell_type": "code",
   "execution_count": 75,
   "metadata": {
    "execution": {
     "iopub.execute_input": "2025-08-14T16:03:01.367691Z",
     "iopub.status.busy": "2025-08-14T16:03:01.365976Z",
     "iopub.status.idle": "2025-08-14T16:03:01.381979Z",
     "shell.execute_reply": "2025-08-14T16:03:01.380487Z",
     "shell.execute_reply.started": "2025-08-14T16:03:01.367647Z"
    },
    "trusted": true
   },
   "outputs": [
    {
     "data": {
      "text/plain": [
       "11"
      ]
     },
     "execution_count": 75,
     "metadata": {},
     "output_type": "execute_result"
    }
   ],
   "source": [
    "movies_rating=df.query(\"Category=='Movie' and Rating=='Tv-14' and Country=='Canada'\").shape[0]\n",
    "movies_rating\n",
    "\n"
   ]
  },
  {
   "cell_type": "markdown",
   "metadata": {},
   "source": [
    "9.2) How many TV Shows got the 'R' rating, after year 2018 ?"
   ]
  },
  {
   "cell_type": "code",
   "execution_count": 76,
   "metadata": {
    "execution": {
     "iopub.execute_input": "2025-08-14T16:03:05.009390Z",
     "iopub.status.busy": "2025-08-14T16:03:05.009006Z",
     "iopub.status.idle": "2025-08-14T16:03:05.033094Z",
     "shell.execute_reply": "2025-08-14T16:03:05.030503Z",
     "shell.execute_reply.started": "2025-08-14T16:03:05.009364Z"
    },
    "trusted": true
   },
   "outputs": [
    {
     "name": "stdout",
     "output_type": "stream",
     "text": [
      "1\n"
     ]
    }
   ],
   "source": [
    "# Count the number of TV Shows that have a rating of 'R' and were released after 2018\n",
    "tv_r_after2018_count = df.query(\n",
    "    \"Category == 'Tv Show' and Rating == 'R' and Release_Year > 2018\"\n",
    ").shape[0]\n",
    "print(tv_r_after2018_count)"
   ]
  },
  {
   "cell_type": "markdown",
   "metadata": {},
   "source": [
    "10) What is the maximum duration of a Movie/Show on Netflix ?"
   ]
  },
  {
   "cell_type": "code",
   "execution_count": 77,
   "metadata": {
    "execution": {
     "iopub.execute_input": "2025-08-14T16:05:14.958007Z",
     "iopub.status.busy": "2025-08-14T16:05:14.957672Z",
     "iopub.status.idle": "2025-08-14T16:05:15.011898Z",
     "shell.execute_reply": "2025-08-14T16:05:15.010330Z",
     "shell.execute_reply.started": "2025-08-14T16:05:14.957985Z"
    },
    "trusted": true
   },
   "outputs": [
    {
     "name": "stdout",
     "output_type": "stream",
     "text": [
      "Longest Movie: 312.0 minutes\n",
      "Longest Show: 16 seasons\n"
     ]
    }
   ],
   "source": [
    "# Extract numbers and units\n",
    "df['Duration'] = df['Duration'].str.strip()\n",
    "\n",
    "# Extract numeric value and unit\n",
    "df['Duration_value'] = df['Duration'].str.extract(r'(\\d+)').astype(float)\n",
    "df['Duration_unit'] = df['Duration'].str.extract(r'([a-zA-Z]+)')\n",
    "\n",
    "# Max movie duration in minutes\n",
    "max_minutes = df[df['Duration_unit'].str.contains('min', case=False)]['Duration_value'].max()\n",
    "\n",
    "# Max number of seasons\n",
    "max_seasons = df[df['Duration_unit'].str.contains('Season', case=False)]['Duration_value'].max()\n",
    "\n",
    "print(f\"Longest Movie: {max_minutes} minutes\")\n",
    "print(f\"Longest Show: {int(max_seasons)} seasons\")\n",
    "\n"
   ]
  },
  {
   "cell_type": "markdown",
   "metadata": {},
   "source": [
    " 11) Find all the instances where: Category is 'Movie' and Type is 'Dramas' or Category is 'TV Show' & Type is 'Kids' TV'."
   ]
  },
  {
   "cell_type": "code",
   "execution_count": 78,
   "metadata": {
    "execution": {
     "iopub.execute_input": "2025-08-14T16:05:25.365803Z",
     "iopub.status.busy": "2025-08-14T16:05:25.364010Z",
     "iopub.status.idle": "2025-08-14T16:05:25.393689Z",
     "shell.execute_reply": "2025-08-14T16:05:25.392273Z",
     "shell.execute_reply.started": "2025-08-14T16:05:25.365758Z"
    },
    "trusted": true
   },
   "outputs": [
    {
     "data": {
      "text/html": [
       "<div>\n",
       "<style scoped>\n",
       "    .dataframe tbody tr th:only-of-type {\n",
       "        vertical-align: middle;\n",
       "    }\n",
       "\n",
       "    .dataframe tbody tr th {\n",
       "        vertical-align: top;\n",
       "    }\n",
       "\n",
       "    .dataframe thead th {\n",
       "        text-align: right;\n",
       "    }\n",
       "</style>\n",
       "<table border=\"1\" class=\"dataframe\">\n",
       "  <thead>\n",
       "    <tr style=\"text-align: right;\">\n",
       "      <th></th>\n",
       "      <th>Show_Id</th>\n",
       "      <th>Category</th>\n",
       "      <th>Title</th>\n",
       "      <th>Director</th>\n",
       "      <th>Cast</th>\n",
       "      <th>Country</th>\n",
       "      <th>Release_Date</th>\n",
       "      <th>Rating</th>\n",
       "      <th>Duration</th>\n",
       "      <th>Type</th>\n",
       "      <th>Description</th>\n",
       "      <th>Release_Year</th>\n",
       "      <th>Duration_value</th>\n",
       "      <th>Duration_unit</th>\n",
       "    </tr>\n",
       "  </thead>\n",
       "  <tbody>\n",
       "    <tr>\n",
       "      <th>4</th>\n",
       "      <td>S5</td>\n",
       "      <td>Movie</td>\n",
       "      <td>21</td>\n",
       "      <td>Robert Luketic</td>\n",
       "      <td>Jim Sturgess, Kevin Spacey, Kate Bosworth, Aar...</td>\n",
       "      <td>United States</td>\n",
       "      <td>2020-01-01</td>\n",
       "      <td>Pg-13</td>\n",
       "      <td>123 Min</td>\n",
       "      <td>Dramas</td>\n",
       "      <td>A Brilliant Group Of Students Become Card-Coun...</td>\n",
       "      <td>2020</td>\n",
       "      <td>123.0</td>\n",
       "      <td>Min</td>\n",
       "    </tr>\n",
       "    <tr>\n",
       "      <th>7</th>\n",
       "      <td>S8</td>\n",
       "      <td>Movie</td>\n",
       "      <td>187</td>\n",
       "      <td>Kevin Reynolds</td>\n",
       "      <td>Samuel L. Jackson, John Heard, Kelly Rowan, Cl...</td>\n",
       "      <td>United States</td>\n",
       "      <td>2019-11-01</td>\n",
       "      <td>R</td>\n",
       "      <td>119 Min</td>\n",
       "      <td>Dramas</td>\n",
       "      <td>After One Of His High School Students Attacks ...</td>\n",
       "      <td>2019</td>\n",
       "      <td>119.0</td>\n",
       "      <td>Min</td>\n",
       "    </tr>\n",
       "    <tr>\n",
       "      <th>170</th>\n",
       "      <td>S171</td>\n",
       "      <td>Movie</td>\n",
       "      <td>A Family Man</td>\n",
       "      <td>Mark Williams</td>\n",
       "      <td>Gerard Butler, Gretchen Mol, Alison Brie, Will...</td>\n",
       "      <td>Canada, United States</td>\n",
       "      <td>2019-12-15</td>\n",
       "      <td>R</td>\n",
       "      <td>110 Min</td>\n",
       "      <td>Dramas</td>\n",
       "      <td>A Ruthless Corporate Headhunter Battles His Ri...</td>\n",
       "      <td>2019</td>\n",
       "      <td>110.0</td>\n",
       "      <td>Min</td>\n",
       "    </tr>\n",
       "    <tr>\n",
       "      <th>232</th>\n",
       "      <td>S233</td>\n",
       "      <td>Movie</td>\n",
       "      <td>A Stoning In Fulham County</td>\n",
       "      <td>Larry Elikann</td>\n",
       "      <td>Ken Olin, Jill Eikenberry, Maureen Mueller, Gr...</td>\n",
       "      <td>United States</td>\n",
       "      <td>2011-10-01</td>\n",
       "      <td>Tv-14</td>\n",
       "      <td>95 Min</td>\n",
       "      <td>Dramas</td>\n",
       "      <td>After Reckless Teens Kill An Amish Child, A Pr...</td>\n",
       "      <td>2011</td>\n",
       "      <td>95.0</td>\n",
       "      <td>Min</td>\n",
       "    </tr>\n",
       "    <tr>\n",
       "      <th>295</th>\n",
       "      <td>S296</td>\n",
       "      <td>Movie</td>\n",
       "      <td>Across Grace Alley</td>\n",
       "      <td>Ralph Macchio</td>\n",
       "      <td>Ben Hyland, Marsha Mason, Karina Smirnoff, Col...</td>\n",
       "      <td>United States</td>\n",
       "      <td>2016-12-01</td>\n",
       "      <td>Tv-Pg</td>\n",
       "      <td>24 Min</td>\n",
       "      <td>Dramas</td>\n",
       "      <td>A Young Boy, Upset By His Parents' Divorce, Be...</td>\n",
       "      <td>2016</td>\n",
       "      <td>24.0</td>\n",
       "      <td>Min</td>\n",
       "    </tr>\n",
       "  </tbody>\n",
       "</table>\n",
       "</div>"
      ],
      "text/plain": [
       "    Show_Id Category                       Title        Director  \\\n",
       "4        S5    Movie                          21  Robert Luketic   \n",
       "7        S8    Movie                         187  Kevin Reynolds   \n",
       "170    S171    Movie                A Family Man   Mark Williams   \n",
       "232    S233    Movie  A Stoning In Fulham County   Larry Elikann   \n",
       "295    S296    Movie          Across Grace Alley   Ralph Macchio   \n",
       "\n",
       "                                                  Cast                Country  \\\n",
       "4    Jim Sturgess, Kevin Spacey, Kate Bosworth, Aar...          United States   \n",
       "7    Samuel L. Jackson, John Heard, Kelly Rowan, Cl...          United States   \n",
       "170  Gerard Butler, Gretchen Mol, Alison Brie, Will...  Canada, United States   \n",
       "232  Ken Olin, Jill Eikenberry, Maureen Mueller, Gr...          United States   \n",
       "295  Ben Hyland, Marsha Mason, Karina Smirnoff, Col...          United States   \n",
       "\n",
       "    Release_Date Rating Duration    Type  \\\n",
       "4     2020-01-01  Pg-13  123 Min  Dramas   \n",
       "7     2019-11-01      R  119 Min  Dramas   \n",
       "170   2019-12-15      R  110 Min  Dramas   \n",
       "232   2011-10-01  Tv-14   95 Min  Dramas   \n",
       "295   2016-12-01  Tv-Pg   24 Min  Dramas   \n",
       "\n",
       "                                           Description  Release_Year  \\\n",
       "4    A Brilliant Group Of Students Become Card-Coun...          2020   \n",
       "7    After One Of His High School Students Attacks ...          2019   \n",
       "170  A Ruthless Corporate Headhunter Battles His Ri...          2019   \n",
       "232  After Reckless Teens Kill An Amish Child, A Pr...          2011   \n",
       "295  A Young Boy, Upset By His Parents' Divorce, Be...          2016   \n",
       "\n",
       "     Duration_value Duration_unit  \n",
       "4             123.0           Min  \n",
       "7             119.0           Min  \n",
       "170           110.0           Min  \n",
       "232            95.0           Min  \n",
       "295            24.0           Min  "
      ]
     },
     "execution_count": 78,
     "metadata": {},
     "output_type": "execute_result"
    }
   ],
   "source": [
    "category_instance = df.query(\n",
    "    \"(Category == 'Movie' and Type == 'Dramas') or (Category == 'Tv Show' and Type == 'Kids')\"\n",
    ")\n",
    "\n",
    "category_instance.head()"
   ]
  },
  {
   "cell_type": "markdown",
   "metadata": {},
   "source": [
    "12) How can we sort the dataset by Year ?"
   ]
  },
  {
   "cell_type": "code",
   "execution_count": 79,
   "metadata": {
    "execution": {
     "iopub.execute_input": "2025-08-14T16:05:31.344081Z",
     "iopub.status.busy": "2025-08-14T16:05:31.343678Z",
     "iopub.status.idle": "2025-08-14T16:05:31.392113Z",
     "shell.execute_reply": "2025-08-14T16:05:31.390592Z",
     "shell.execute_reply.started": "2025-08-14T16:05:31.344037Z"
    },
    "trusted": true
   },
   "outputs": [
    {
     "name": "stdout",
     "output_type": "stream",
     "text": [
      "Sorted descending\n"
     ]
    },
    {
     "data": {
      "text/html": [
       "<div>\n",
       "<style scoped>\n",
       "    .dataframe tbody tr th:only-of-type {\n",
       "        vertical-align: middle;\n",
       "    }\n",
       "\n",
       "    .dataframe tbody tr th {\n",
       "        vertical-align: top;\n",
       "    }\n",
       "\n",
       "    .dataframe thead th {\n",
       "        text-align: right;\n",
       "    }\n",
       "</style>\n",
       "<table border=\"1\" class=\"dataframe\">\n",
       "  <thead>\n",
       "    <tr style=\"text-align: right;\">\n",
       "      <th></th>\n",
       "      <th>Show_Id</th>\n",
       "      <th>Category</th>\n",
       "      <th>Title</th>\n",
       "      <th>Director</th>\n",
       "      <th>Cast</th>\n",
       "      <th>Country</th>\n",
       "      <th>Release_Date</th>\n",
       "      <th>Rating</th>\n",
       "      <th>Duration</th>\n",
       "      <th>Type</th>\n",
       "      <th>Description</th>\n",
       "      <th>Release_Year</th>\n",
       "      <th>Duration_value</th>\n",
       "      <th>Duration_unit</th>\n",
       "    </tr>\n",
       "  </thead>\n",
       "  <tbody>\n",
       "    <tr>\n",
       "      <th>4173</th>\n",
       "      <td>S4174</td>\n",
       "      <td>Tv Show</td>\n",
       "      <td>Monarca</td>\n",
       "      <td>Unknown</td>\n",
       "      <td>Irene Azuela, Juan Manuel Bernal, Osvaldo Bena...</td>\n",
       "      <td>Mexico</td>\n",
       "      <td>2021-01-01</td>\n",
       "      <td>Tv-Ma</td>\n",
       "      <td>2 Seasons</td>\n",
       "      <td>International Tv Shows, Spanish-Language Tv Sh...</td>\n",
       "      <td>After 20 Years, Ana María Returns To Mexico An...</td>\n",
       "      <td>2021</td>\n",
       "      <td>2.0</td>\n",
       "      <td>Seasons</td>\n",
       "    </tr>\n",
       "    <tr>\n",
       "      <th>4966</th>\n",
       "      <td>S4966</td>\n",
       "      <td>Tv Show</td>\n",
       "      <td>Pretend It’S A City</td>\n",
       "      <td>Unknown</td>\n",
       "      <td>Fran Lebowitz</td>\n",
       "      <td>United States</td>\n",
       "      <td>2021-01-08</td>\n",
       "      <td>Tv-14</td>\n",
       "      <td>1 Season</td>\n",
       "      <td>Docuseries</td>\n",
       "      <td>Wander The New York City Streets And Fascinati...</td>\n",
       "      <td>2021</td>\n",
       "      <td>1.0</td>\n",
       "      <td>Season</td>\n",
       "    </tr>\n",
       "    <tr>\n",
       "      <th>3472</th>\n",
       "      <td>S3473</td>\n",
       "      <td>Tv Show</td>\n",
       "      <td>Kuroko'S Basketball</td>\n",
       "      <td>Unknown</td>\n",
       "      <td>Kensho Ono, Yuki Ono, Chiwa Saito, Yoshimasa H...</td>\n",
       "      <td>Japan</td>\n",
       "      <td>2021-01-15</td>\n",
       "      <td>Tv-Ma</td>\n",
       "      <td>1 Season</td>\n",
       "      <td>Anime Series, International Tv Shows, Teen Tv ...</td>\n",
       "      <td>Five Middle School Basketball Stars Went To Se...</td>\n",
       "      <td>2021</td>\n",
       "      <td>1.0</td>\n",
       "      <td>Season</td>\n",
       "    </tr>\n",
       "    <tr>\n",
       "      <th>3709</th>\n",
       "      <td>S3710</td>\n",
       "      <td>Movie</td>\n",
       "      <td>London Heist</td>\n",
       "      <td>Mark Mcqueen</td>\n",
       "      <td>Craig Fairbrass, James Cosmo, Mem Ferda, Nick ...</td>\n",
       "      <td>United Kingdom</td>\n",
       "      <td>2021-01-01</td>\n",
       "      <td>R</td>\n",
       "      <td>96 Min</td>\n",
       "      <td>Action &amp; Adventure</td>\n",
       "      <td>After A Heist Gone Wrong, A Career Criminal Gr...</td>\n",
       "      <td>2021</td>\n",
       "      <td>96.0</td>\n",
       "      <td>Min</td>\n",
       "    </tr>\n",
       "    <tr>\n",
       "      <th>1002</th>\n",
       "      <td>S1003</td>\n",
       "      <td>Movie</td>\n",
       "      <td>Blue Streak</td>\n",
       "      <td>Les Mayfield</td>\n",
       "      <td>Martin Lawrence, Luke Wilson, Peter Greene, Da...</td>\n",
       "      <td>Germany, United States</td>\n",
       "      <td>2021-01-01</td>\n",
       "      <td>Pg-13</td>\n",
       "      <td>94 Min</td>\n",
       "      <td>Action &amp; Adventure, Comedies</td>\n",
       "      <td>A Jewel Thief Returns To His Hiding Place Afte...</td>\n",
       "      <td>2021</td>\n",
       "      <td>94.0</td>\n",
       "      <td>Min</td>\n",
       "    </tr>\n",
       "  </tbody>\n",
       "</table>\n",
       "</div>"
      ],
      "text/plain": [
       "     Show_Id Category                Title      Director  \\\n",
       "4173   S4174  Tv Show              Monarca       Unknown   \n",
       "4966   S4966  Tv Show  Pretend It’S A City       Unknown   \n",
       "3472   S3473  Tv Show  Kuroko'S Basketball       Unknown   \n",
       "3709   S3710    Movie         London Heist  Mark Mcqueen   \n",
       "1002   S1003    Movie          Blue Streak  Les Mayfield   \n",
       "\n",
       "                                                   Cast  \\\n",
       "4173  Irene Azuela, Juan Manuel Bernal, Osvaldo Bena...   \n",
       "4966                                      Fran Lebowitz   \n",
       "3472  Kensho Ono, Yuki Ono, Chiwa Saito, Yoshimasa H...   \n",
       "3709  Craig Fairbrass, James Cosmo, Mem Ferda, Nick ...   \n",
       "1002  Martin Lawrence, Luke Wilson, Peter Greene, Da...   \n",
       "\n",
       "                     Country Release_Date Rating   Duration  \\\n",
       "4173                  Mexico   2021-01-01  Tv-Ma  2 Seasons   \n",
       "4966           United States   2021-01-08  Tv-14   1 Season   \n",
       "3472                   Japan   2021-01-15  Tv-Ma   1 Season   \n",
       "3709          United Kingdom   2021-01-01      R     96 Min   \n",
       "1002  Germany, United States   2021-01-01  Pg-13     94 Min   \n",
       "\n",
       "                                                   Type  \\\n",
       "4173  International Tv Shows, Spanish-Language Tv Sh...   \n",
       "4966                                         Docuseries   \n",
       "3472  Anime Series, International Tv Shows, Teen Tv ...   \n",
       "3709                                 Action & Adventure   \n",
       "1002                       Action & Adventure, Comedies   \n",
       "\n",
       "                                            Description  Release_Year  \\\n",
       "4173  After 20 Years, Ana María Returns To Mexico An...          2021   \n",
       "4966  Wander The New York City Streets And Fascinati...          2021   \n",
       "3472  Five Middle School Basketball Stars Went To Se...          2021   \n",
       "3709  After A Heist Gone Wrong, A Career Criminal Gr...          2021   \n",
       "1002  A Jewel Thief Returns To His Hiding Place Afte...          2021   \n",
       "\n",
       "      Duration_value Duration_unit  \n",
       "4173             2.0       Seasons  \n",
       "4966             1.0        Season  \n",
       "3472             1.0        Season  \n",
       "3709            96.0           Min  \n",
       "1002            94.0           Min  "
      ]
     },
     "execution_count": 79,
     "metadata": {},
     "output_type": "execute_result"
    }
   ],
   "source": [
    "# Sort ascending\n",
    "df_sorted = df.sort_values(by='Release_Year')\n",
    "\n",
    "# Sort descending\n",
    "df_sorted_desc = df.sort_values(by='Release_Year', ascending=False)\n",
    "\n",
    "print(\"Sorted descending\")\n",
    "df_sorted_desc.head()\n",
    "\n",
    "\n"
   ]
  },
  {
   "cell_type": "markdown",
   "metadata": {},
   "source": [
    "13) Which individual country has the Highest No. of TV Shows ?"
   ]
  },
  {
   "cell_type": "code",
   "execution_count": 80,
   "metadata": {
    "execution": {
     "iopub.execute_input": "2025-08-14T16:05:39.054567Z",
     "iopub.status.busy": "2025-08-14T16:05:39.054148Z",
     "iopub.status.idle": "2025-08-14T16:05:39.070549Z",
     "shell.execute_reply": "2025-08-14T16:05:39.069234Z",
     "shell.execute_reply.started": "2025-08-14T16:05:39.054541Z"
    },
    "trusted": true
   },
   "outputs": [
    {
     "name": "stdout",
     "output_type": "stream",
     "text": [
      "United States\n"
     ]
    }
   ],
   "source": [
    "\n",
    "top_country = df[df['Category']=='Tv Show']['Country'].value_counts().idxmax()\n",
    "print(top_country)\n"
   ]
  },
  {
   "cell_type": "code",
   "execution_count": 81,
   "metadata": {
    "execution": {
     "iopub.execute_input": "2025-08-14T16:05:41.766149Z",
     "iopub.status.busy": "2025-08-14T16:05:41.764300Z",
     "iopub.status.idle": "2025-08-14T16:05:41.903932Z",
     "shell.execute_reply": "2025-08-14T16:05:41.901722Z",
     "shell.execute_reply.started": "2025-08-14T16:05:41.766091Z"
    },
    "trusted": true
   },
   "outputs": [],
   "source": [
    "# Save the cleaned df dataset to a new CSV file without including the index\n",
    "df.head(20).to_csv(\"df_cleaned.csv\", index=False)"
   ]
  }
 ],
 "metadata": {
  "kaggle": {
   "accelerator": "none",
   "dataSources": [
    {
     "datasetId": 7979347,
     "sourceId": 12628520,
     "sourceType": "datasetVersion"
    }
   ],
   "dockerImageVersionId": 31089,
   "isGpuEnabled": false,
   "isInternetEnabled": false,
   "language": "python",
   "sourceType": "notebook"
  },
  "kernelspec": {
   "display_name": "Python 3",
   "language": "python",
   "name": "python3"
  },
  "language_info": {
   "codemirror_mode": {
    "name": "ipython",
    "version": 3
   },
   "file_extension": ".py",
   "mimetype": "text/x-python",
   "name": "python",
   "nbconvert_exporter": "python",
   "pygments_lexer": "ipython3",
   "version": "3.13.7"
  }
 },
 "nbformat": 4,
 "nbformat_minor": 4
}
